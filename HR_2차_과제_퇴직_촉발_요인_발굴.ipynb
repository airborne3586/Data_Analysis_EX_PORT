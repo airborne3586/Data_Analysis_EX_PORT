{
  "cells": [
    {
      "cell_type": "markdown",
      "metadata": {
        "id": "view-in-github",
        "colab_type": "text"
      },
      "source": [
        "<a href=\"https://colab.research.google.com/github/airborne3586/Data_Analysis_EX_PORT/blob/main/HR_2%EC%B0%A8_%EA%B3%BC%EC%A0%9C_%ED%87%B4%EC%A7%81_%EC%B4%89%EB%B0%9C_%EC%9A%94%EC%9D%B8_%EB%B0%9C%EA%B5%B4.ipynb\" target=\"_parent\"><img src=\"https://colab.research.google.com/assets/colab-badge.svg\" alt=\"Open In Colab\"/></a>"
      ]
    },
    {
      "cell_type": "code",
      "source": [
        "#utiliser GPU\n",
        "import torch\n",
        "device = torch.device(\"cuda\")\n",
        "torch.cuda.get_device_name(0)"
      ],
      "metadata": {
        "colab": {
          "base_uri": "https://localhost:8080/",
          "height": 36
        },
        "id": "Lx8NtzX3a6Bm",
        "outputId": "483f090a-38cf-41b6-c6ca-a867b3fbe613"
      },
      "execution_count": 1,
      "outputs": [
        {
          "output_type": "execute_result",
          "data": {
            "text/plain": [
              "'Tesla T4'"
            ],
            "application/vnd.google.colaboratory.intrinsic+json": {
              "type": "string"
            }
          },
          "metadata": {},
          "execution_count": 1
        }
      ]
    },
    {
      "cell_type": "code",
      "source": [
        "from google.colab import drive\n",
        "import pandas as pd\n",
        "\n",
        "# Google Drive 마운트\n",
        "drive.mount('/content/drive')\n"
      ],
      "metadata": {
        "colab": {
          "base_uri": "https://localhost:8080/"
        },
        "id": "Y4v_EwMLa8Bt",
        "outputId": "23f2eb54-76b2-4797-c7a2-357ce4495649"
      },
      "execution_count": 2,
      "outputs": [
        {
          "output_type": "stream",
          "name": "stdout",
          "text": [
            "Drive already mounted at /content/drive; to attempt to forcibly remount, call drive.mount(\"/content/drive\", force_remount=True).\n"
          ]
        }
      ]
    },
    {
      "cell_type": "code",
      "execution_count": 3,
      "metadata": {
        "id": "3oCllbw9a5f2"
      },
      "outputs": [],
      "source": [
        "import matplotlib.pyplot as plt\n",
        "import numpy as np\n",
        "\n",
        "import pandas as pd\n",
        "import seaborn as sns\n",
        "\n",
        "\n",
        "plt.rc('font', family='NanumBarunGothic')"
      ]
    },
    {
      "cell_type": "markdown",
      "metadata": {
        "id": "qtUllABDa5f0"
      },
      "source": [
        "# 퇴직을 촉발하는 주요 요인 발굴"
      ]
    },
    {
      "cell_type": "code",
      "execution_count": 4,
      "metadata": {
        "id": "pBedJ3FXa5f4"
      },
      "outputs": [],
      "source": [
        "# 파일 경로\n",
        "file_path = '/content/drive/My Drive/Colab Notebooks/EX_port/hr_data.csv'\n",
        "\n",
        "# 데이터 불러오기\n",
        "df = pd.read_csv(file_path)"
      ]
    },
    {
      "cell_type": "markdown",
      "metadata": {
        "id": "8SeoZy5ea5f4"
      },
      "source": [
        "## 기본적인 특성 확인"
      ]
    },
    {
      "cell_type": "code",
      "execution_count": 5,
      "metadata": {
        "colab": {
          "base_uri": "https://localhost:8080/"
        },
        "id": "9wLqWszha5f4",
        "outputId": "29320e15-d8a7-435f-94e9-88783b6a0b9f"
      },
      "outputs": [
        {
          "output_type": "stream",
          "name": "stdout",
          "text": [
            "Attrition\n",
            "No     1233\n",
            "Yes     237\n",
            "dtype: int64\n"
          ]
        }
      ],
      "source": [
        "# PerformanceRating 값별 count 계산\n",
        "count_by_rating = df.groupby('Attrition').size()\n",
        "\n",
        "print(count_by_rating)\n"
      ]
    },
    {
      "cell_type": "markdown",
      "metadata": {
        "id": "jba278s-a5f5"
      },
      "source": [
        "퇴직자는 237명이고 재직자는 1233명임을 확인"
      ]
    },
    {
      "cell_type": "code",
      "execution_count": 6,
      "metadata": {
        "colab": {
          "base_uri": "https://localhost:8080/"
        },
        "id": "hXkN-baMa5f5",
        "outputId": "479c3ea6-acc2-427b-e352-ff9754f62b9a"
      },
      "outputs": [
        {
          "output_type": "execute_result",
          "data": {
            "text/plain": [
              "Index(['Age', 'Attrition', 'BusinessTravel', 'DailyRate', 'Department',\n",
              "       'DistanceFromHome', 'Education', 'EducationField', 'EmployeeCount',\n",
              "       'EmployeeNumber', 'EnvironmentSatisfaction', 'Gender', 'HourlyRate',\n",
              "       'JobInvolvement', 'JobLevel', 'JobRole', 'JobSatisfaction',\n",
              "       'MaritalStatus', 'MonthlyIncome', 'MonthlyRate', 'NumCompaniesWorked',\n",
              "       'Over18', 'OverTime', 'PercentSalaryHike', 'PerformanceRating',\n",
              "       'RelationshipSatisfaction', 'StandardHours', 'StockOptionLevel',\n",
              "       'TotalWorkingYears', 'TrainingTimesLastYear', 'WorkLifeBalance',\n",
              "       'YearsAtCompany', 'YearsInCurrentRole', 'YearsSinceLastPromotion',\n",
              "       'YearsWithCurrManager'],\n",
              "      dtype='object')"
            ]
          },
          "metadata": {},
          "execution_count": 6
        }
      ],
      "source": [
        "df.columns"
      ]
    },
    {
      "cell_type": "code",
      "execution_count": 6,
      "metadata": {
        "id": "Q4qVxk_xa5f5"
      },
      "outputs": [],
      "source": []
    },
    {
      "cell_type": "markdown",
      "metadata": {
        "id": "ehWNIEaEa5f5"
      },
      "source": [
        "### 1) 집과의 거리(DistanceFromHome)"
      ]
    },
    {
      "cell_type": "markdown",
      "metadata": {
        "id": "7Dzu5hBRa5f5"
      },
      "source": [
        "#### 집과의 거리가 멀 수록 퇴사자가 많을 것이다?"
      ]
    },
    {
      "cell_type": "code",
      "execution_count": 7,
      "metadata": {
        "colab": {
          "base_uri": "https://localhost:8080/",
          "height": 471
        },
        "id": "KpTHamTGa5f5",
        "outputId": "b29fdc7a-37d9-454f-cdd8-39b9c70a9ff8"
      },
      "outputs": [
        {
          "output_type": "display_data",
          "data": {
            "text/plain": [
              "<Figure size 640x480 with 1 Axes>"
            ],
            "image/png": "[encoded data removed]"
          },
          "metadata": {}
        }
      ],
      "source": [
        "import seaborn as sns\n",
        "\n",
        "#박스플롯\n",
        "sns.boxplot(x='Attrition', y='DistanceFromHome', data=df)\n",
        "plt.xlabel('퇴직 여부')\n",
        "plt.ylabel('집과의 거리')\n",
        "plt.title('퇴직 여부별 집과의 거리 Boxplot ')\n",
        "plt.show()\n"
      ]
    },
    {
      "cell_type": "markdown",
      "metadata": {
        "id": "Xh2Qb4Mga5f6"
      },
      "source": [
        "상자그림을 보면 퇴사 집단의 평균을 볼때 퇴사집단의 집과의 거리 평균이 약간 더 멀다는 것을 볼 수 있다.또한 집과의 거리가 먼 쪽으로 분포되어 있다. 따라서 집과의 거리가 퇴직 여부에 어느정도 영향을 줄 가능성이 있다고 판단할 수 있다."
      ]
    },
    {
      "cell_type": "code",
      "execution_count": 8,
      "metadata": {
        "colab": {
          "base_uri": "https://localhost:8080/",
          "height": 471
        },
        "id": "0E1bKudla5f6",
        "outputId": "c6998b67-a5d8-4b46-8b16-b01455224ece"
      },
      "outputs": [
        {
          "output_type": "display_data",
          "data": {
            "text/plain": [
              "<Figure size 640x480 with 1 Axes>"
            ],
            "image/png": "[encoded data removed]"
          },
          "metadata": {}
        }
      ],
      "source": [
        "import seaborn as sns\n",
        "import numpy as np\n",
        "import matplotlib.pyplot as plt\n",
        "\n",
        "# 데이터의 최소값과 최대값\n",
        "min_value = df['DistanceFromHome'].min()\n",
        "max_value = df['DistanceFromHome'].max()\n",
        "\n",
        "# 구간의 수 계산\n",
        "num_bins = 10\n",
        "\n",
        "# 히스토그램 그리기\n",
        "plt.hist(df[df['Attrition'] == 'Yes']['DistanceFromHome'], bins=num_bins, alpha=0.5, label='퇴직', rwidth=0.8)  # 막대 폭 설정\n",
        "plt.hist(df[df['Attrition'] == 'No']['DistanceFromHome'], bins=num_bins, alpha=0.5, label='재직', rwidth=0.8)  # 막대 폭 설정\n",
        "plt.xlabel('집과의 거리')\n",
        "plt.ylabel('빈도')\n",
        "plt.title('퇴직여부별 집과의 거리 히스토그램')\n",
        "plt.legend()\n",
        "plt.show()\n"
      ]
    },
    {
      "cell_type": "markdown",
      "metadata": {
        "id": "GKcK_oMFa5f6"
      },
      "source": [
        "### 2) 월소득(MonthlyIncome)"
      ]
    },
    {
      "cell_type": "markdown",
      "metadata": {
        "id": "SyAuhte2a5f7"
      },
      "source": [
        "#### 월소득이 낮을 수록 퇴사자가 많을 것이다?"
      ]
    },
    {
      "cell_type": "markdown",
      "metadata": {
        "id": "37dT7pkba5f7"
      },
      "source": [
        "\n",
        "\n",
        "월소득이 높은 사람들은 퇴직하지 않을 가능성이 높다.\n",
        "월소득이 높을수록 경제적인 안정성이 높아져 퇴직하지 않는 경향이 있다는 가정.\n",
        "\n",
        "\n",
        "월소득이 낮은 사람들은 퇴직할 가능성이 높다.\n",
        "이 가설은 월소득이 낮을수록 경제적인 어려움이 있어 퇴직할 가능성이 높다는 가정입니다.\n",
        "\n",
        "\n"
      ]
    },
    {
      "cell_type": "code",
      "execution_count": 9,
      "metadata": {
        "colab": {
          "base_uri": "https://localhost:8080/",
          "height": 471
        },
        "id": "pSX7ASAxa5f7",
        "outputId": "f352b73d-2163-40e0-bc9f-57ab3a7e4487"
      },
      "outputs": [
        {
          "output_type": "display_data",
          "data": {
            "text/plain": [
              "<Figure size 640x480 with 1 Axes>"
            ],
            "image/png": "[encoded data removed]"
          },
          "metadata": {}
        }
      ],
      "source": [
        "import seaborn as sns\n",
        "\n",
        "#박스플롯\n",
        "sns.boxplot(x='Attrition', y='MonthlyIncome', data=df)\n",
        "plt.xlabel('퇴직 여부')\n",
        "plt.ylabel('월소득')\n",
        "plt.title('퇴직여부별 월소득 Boxplot ')\n",
        "plt.show()\n"
      ]
    },
    {
      "cell_type": "code",
      "execution_count": 10,
      "metadata": {
        "colab": {
          "base_uri": "https://localhost:8080/"
        },
        "id": "Z2WC2hQla5f7",
        "outputId": "35b6c49a-9d86-42d3-e307-aae080bd479e"
      },
      "outputs": [
        {
          "output_type": "stream",
          "name": "stdout",
          "text": [
            "Attrition\n",
            "No     6832.739659\n",
            "Yes    4787.092827\n",
            "Name: MonthlyIncome, dtype: float64\n"
          ]
        }
      ],
      "source": [
        "# 퇴직 여부에 따른 월소득 평균 계산\n",
        "mean_income = df.groupby('Attrition')['MonthlyIncome'].mean()\n",
        "\n",
        "print(mean_income)"
      ]
    },
    {
      "cell_type": "markdown",
      "metadata": {
        "id": "VpSxiH_Ka5f7"
      },
      "source": [
        "Boxplot을 그려보았으나 이상치가 많아 이상치도 따로 확인해봐야 할 것 같다. 우선 Boxplot만 볼때 두 집단의 평균의 차이에 따라 월소득이 퇴직 여부에 충분한 영향을 줄 가능성이 있을 것으로 보인다. 또한 재직 집단의 월 소득 분포가 넓게 펼쳐져 있는 점을 보았을때 잠재적 퇴직자가도 있지 않을 까 하는 궁금증이 든다."
      ]
    },
    {
      "cell_type": "code",
      "execution_count": 11,
      "metadata": {
        "colab": {
          "base_uri": "https://localhost:8080/",
          "height": 563
        },
        "id": "1P3CKvWta5f7",
        "outputId": "d8acb0ca-7ebe-4646-9b83-9336808a45be"
      },
      "outputs": [
        {
          "output_type": "display_data",
          "data": {
            "text/plain": [
              "<Figure size 1000x600 with 1 Axes>"
            ],
            "image/png": "[encoded data removed]"
          },
          "metadata": {}
        }
      ],
      "source": [
        "# 월소득이 10000 이상인 데이터 추출\n",
        "income_above_10000 = df[df['MonthlyIncome'] >= 10000]\n",
        "\n",
        "# 퇴직 여부에 따라 데이터 분류\n",
        "attrition_yes = income_above_10000[income_above_10000['Attrition'] == 'Yes']\n",
        "attrition_no = income_above_10000[income_above_10000['Attrition'] == 'No']\n",
        "\n",
        "# 퇴직 여부에 따른 히스토그램 그리기\n",
        "plt.figure(figsize=(10, 6))\n",
        "sns.histplot(data=attrition_no, x='MonthlyIncome', color='blue', label='비퇴직')\n",
        "sns.histplot(data=attrition_yes, x='MonthlyIncome', color='red', label='퇴직')\n",
        "\n",
        "plt.xlabel('월소득')\n",
        "plt.ylabel('빈도')\n",
        "plt.title('월소득이 10000 이상인 퇴직 여부에 따른 히스토그램')\n",
        "plt.legend()\n",
        "plt.show()"
      ]
    },
    {
      "cell_type": "markdown",
      "metadata": {
        "id": "AznBMqkPa5f8"
      },
      "source": [
        "월소득이  약 15000에서 18000의 구간에서 퇴직자가 없다. 왜 그럴까?"
      ]
    },
    {
      "cell_type": "markdown",
      "metadata": {
        "id": "SVzIXS-5a5f8"
      },
      "source": [
        "#### 3) 업무환경에 대한 만족도(EnvironmentSatisfaction)"
      ]
    },
    {
      "cell_type": "markdown",
      "metadata": {
        "id": "c2kZzYkia5f8"
      },
      "source": [
        "#### 업무환경에 대한 만족도가 낮을 수록 퇴사자가 많을 것이다?"
      ]
    },
    {
      "cell_type": "code",
      "execution_count": 12,
      "metadata": {
        "colab": {
          "base_uri": "https://localhost:8080/"
        },
        "id": "jqiMAr4la5f8",
        "outputId": "825d2096-b988-471a-9a8f-1faf90de7074"
      },
      "outputs": [
        {
          "output_type": "execute_result",
          "data": {
            "text/plain": [
              "array([2, 3, 4, 1])"
            ]
          },
          "metadata": {},
          "execution_count": 12
        }
      ],
      "source": [
        "df['EnvironmentSatisfaction'].unique()"
      ]
    },
    {
      "cell_type": "code",
      "execution_count": 13,
      "metadata": {
        "colab": {
          "base_uri": "https://localhost:8080/",
          "height": 455
        },
        "id": "p17u1vbga5f8",
        "outputId": "58278f96-4138-44de-e505-ebe408e983b8"
      },
      "outputs": [
        {
          "output_type": "display_data",
          "data": {
            "text/plain": [
              "<Figure size 1000x500 with 2 Axes>"
            ],
            "image/png": "[encoded data removed]"
          },
          "metadata": {}
        }
      ],
      "source": [
        "import matplotlib.pyplot as plt\n",
        "\n",
        "# 퇴직 여부에 따른 업무 환경 만족도 데이터 추출\n",
        "satisfaction_counts = df.groupby(['Attrition', 'EnvironmentSatisfaction']).size()\n",
        "\n",
        "#퇴직 여부에 대한 업무 환경 만족도 데이터 추출\n",
        "yes_satisfaction = satisfaction_counts['Yes']\n",
        "no_satisfaction = satisfaction_counts['No']\n",
        "\n",
        "# 파이 차트 그리기\n",
        "plt.figure(figsize=(10, 5))\n",
        "\n",
        "# 색상 설정\n",
        "colors = ['#999999', '#B3B3B3', '#CCCCCC', '#E6E6E6']\n",
        "\n",
        "plt.subplot(1, 2, 1)\n",
        "plt.pie(yes_satisfaction, labels=yes_satisfaction.index, autopct='%1.1f%%',colors=colors)\n",
        "plt.title('퇴직 여부: Yes')\n",
        "\n",
        "plt.subplot(1, 2, 2)\n",
        "plt.pie(no_satisfaction, labels=no_satisfaction.index, autopct='%1.1f%%',colors=colors)\n",
        "plt.title('퇴직 여부: No')\n",
        "\n",
        "plt.suptitle('퇴직 여부별 업무 환경 만족도')\n",
        "plt.show()\n"
      ]
    },
    {
      "cell_type": "markdown",
      "metadata": {
        "id": "JA1IsLCHa5f8"
      },
      "source": [
        "업무 만족도가 1일 경우 퇴직 여부에 있어 약 13%p나 차이가 난다. 업무환경의 만족도가 유의미하게 영향을 줄 가능성이 있을 것이라고 판단할 수 있다."
      ]
    },
    {
      "cell_type": "markdown",
      "metadata": {
        "id": "x7DO_ceca5f8"
      },
      "source": [
        "### 4) 업무성과(PerformanceRating)"
      ]
    },
    {
      "cell_type": "markdown",
      "metadata": {
        "id": "NzxfUjAKa5f8"
      },
      "source": [
        "업무성과가 낮을 수록 퇴사자가 많을 것이다?"
      ]
    },
    {
      "cell_type": "code",
      "execution_count": 14,
      "metadata": {
        "colab": {
          "base_uri": "https://localhost:8080/",
          "height": 455
        },
        "id": "y-jj-eyPa5f9",
        "outputId": "04956c1f-7ce8-40e0-d585-c5ed55efee2b"
      },
      "outputs": [
        {
          "output_type": "display_data",
          "data": {
            "text/plain": [
              "<Figure size 1000x500 with 2 Axes>"
            ],
            "image/png": "[encoded data removed]"
          },
          "metadata": {}
        }
      ],
      "source": [
        "import matplotlib.pyplot as plt\n",
        "\n",
        "# 퇴직 여부에 따른 업무 환경 만족도 데이터 추출\n",
        "satisfaction_counts = df.groupby(['Attrition', 'PerformanceRating']).size()\n",
        "\n",
        "#퇴직 여부에 대한 업무 환경 만족도 데이터 추출\n",
        "yes_satisfaction = satisfaction_counts['Yes']\n",
        "no_satisfaction = satisfaction_counts['No']\n",
        "\n",
        "# 파이 차트 그리기\n",
        "plt.figure(figsize=(10, 5))\n",
        "\n",
        "# 색상 설정\n",
        "colors = ['#999999', '#B3B3B3']\n",
        "\n",
        "plt.subplot(1, 2, 1)\n",
        "plt.pie(yes_satisfaction, labels=yes_satisfaction.index, autopct='%1.1f%%',colors=colors)\n",
        "plt.title('퇴직 여부: Yes')\n",
        "\n",
        "plt.subplot(1, 2, 2)\n",
        "plt.pie(no_satisfaction, labels=no_satisfaction.index, autopct='%1.1f%%',colors=colors)\n",
        "plt.title('퇴직 여부: No')\n",
        "\n",
        "plt.suptitle('퇴직 여부별 업무 성과')\n",
        "plt.show()\n"
      ]
    },
    {
      "cell_type": "markdown",
      "metadata": {
        "id": "lE8ZTZgna5f9"
      },
      "source": [
        "눈에 띄게 퇴직 여부별로 업무 성과에 있어 큰 차이가 나지 않는다."
      ]
    },
    {
      "cell_type": "markdown",
      "metadata": {
        "id": "jHEJwkvQa5f9"
      },
      "source": [
        "## 1번의 과정을 총 35가지 요인(변수)에 대해 적용하여 살펴보고, 본인이 생각하기에 가장 중요한 요인으로 판단되는 요인을 3가지 이내로 선정하여 최소 1장 혹은 5장 이내의 보고서로 작성할 것"
      ]
    },
    {
      "cell_type": "markdown",
      "metadata": {
        "id": "UF0d0zbFa5f9"
      },
      "source": [
        "## Pycaret을 통한 피처 중요도 확인"
      ]
    },
    {
      "cell_type": "code",
      "execution_count": 16,
      "metadata": {
        "id": "9FBJtMAAa5f9"
      },
      "outputs": [],
      "source": [
        "from pycaret.classification import *"
      ]
    },
    {
      "cell_type": "code",
      "source": [
        "data = df\n",
        "\n",
        "\n",
        "# PyCaret 설정\n",
        "clf = setup(data=data, target='Attrition')\n",
        "\n",
        "# 모델 비교 (LightGBM 모델 제외)\n",
        "best_model = compare_models()\n"
      ],
      "metadata": {
        "colab": {
          "base_uri": "https://localhost:8080/",
          "height": 1000,
          "referenced_widgets": [
            "9f1b86113ec34f51b87eb1148d8e66b4",
            "a65dba8070eb4370aac43b699e4e7cff",
            "20609e82a2c74cd69a887938a8f13669",
            "8349f1d9756f411c88ab6890213b536f",
            "be418faaa4f04b19b41e02c68576c4c3",
            "1bea393383a046a1b44f1a47cc1e1026",
            "01d8accd9f404024b4f3007b6b0e1c01",
            "fd89a19d1465494a88e2e0865330f471",
            "a5a2169d30964744b2570b8ce5a28844",
            "f46fddac2cef470ba65610b689e76289",
            "15b735585f334be1929225eb11e37026"
          ]
        },
        "id": "T3Ub0y-kf-VX",
        "outputId": "2b6ca600-24e1-484e-f831-eb21979dd01d"
      },
      "execution_count": 18,
      "outputs": [
        {
          "output_type": "display_data",
          "data": {
            "text/plain": [
              "<pandas.io.formats.style.Styler at 0x793306d309a0>"
            ],
            "text/html": [
              "<style type=\"text/css\">\n",
              "#T_af970_row11_col1 {\n",
              "  background-color: lightgreen;\n",
              "}\n",
              "</style>\n",
              "<table id=\"T_af970\" class=\"dataframe\">\n",
              "  <thead>\n",
              "    <tr>\n",
              "      <th class=\"blank level0\" >&nbsp;</th>\n",
              "      <th id=\"T_af970_level0_col0\" class=\"col_heading level0 col0\" >Description</th>\n",
              "      <th id=\"T_af970_level0_col1\" class=\"col_heading level0 col1\" >Value</th>\n",
              "    </tr>\n",
              "  </thead>\n",
              "  <tbody>\n",
              "    <tr>\n",
              "      <th id=\"T_af970_level0_row0\" class=\"row_heading level0 row0\" >0</th>\n",
              "      <td id=\"T_af970_row0_col0\" class=\"data row0 col0\" >Session id</td>\n",
              "      <td id=\"T_af970_row0_col1\" class=\"data row0 col1\" >7237</td>\n",
              "    </tr>\n",
              "    <tr>\n",
              "      <th id=\"T_af970_level0_row1\" class=\"row_heading level0 row1\" >1</th>\n",
              "      <td id=\"T_af970_row1_col0\" class=\"data row1 col0\" >Target</td>\n",
              "      <td id=\"T_af970_row1_col1\" class=\"data row1 col1\" >Attrition</td>\n",
              "    </tr>\n",
              "    <tr>\n",
              "      <th id=\"T_af970_level0_row2\" class=\"row_heading level0 row2\" >2</th>\n",
              "      <td id=\"T_af970_row2_col0\" class=\"data row2 col0\" >Target type</td>\n",
              "      <td id=\"T_af970_row2_col1\" class=\"data row2 col1\" >Binary</td>\n",
              "    </tr>\n",
              "    <tr>\n",
              "      <th id=\"T_af970_level0_row3\" class=\"row_heading level0 row3\" >3</th>\n",
              "      <td id=\"T_af970_row3_col0\" class=\"data row3 col0\" >Target mapping</td>\n",
              "      <td id=\"T_af970_row3_col1\" class=\"data row3 col1\" >No: 0, Yes: 1</td>\n",
              "    </tr>\n",
              "    <tr>\n",
              "      <th id=\"T_af970_level0_row4\" class=\"row_heading level0 row4\" >4</th>\n",
              "      <td id=\"T_af970_row4_col0\" class=\"data row4 col0\" >Original data shape</td>\n",
              "      <td id=\"T_af970_row4_col1\" class=\"data row4 col1\" >(1470, 35)</td>\n",
              "    </tr>\n",
              "    <tr>\n",
              "      <th id=\"T_af970_level0_row5\" class=\"row_heading level0 row5\" >5</th>\n",
              "      <td id=\"T_af970_row5_col0\" class=\"data row5 col0\" >Transformed data shape</td>\n",
              "      <td id=\"T_af970_row5_col1\" class=\"data row5 col1\" >(1470, 54)</td>\n",
              "    </tr>\n",
              "    <tr>\n",
              "      <th id=\"T_af970_level0_row6\" class=\"row_heading level0 row6\" >6</th>\n",
              "      <td id=\"T_af970_row6_col0\" class=\"data row6 col0\" >Transformed train set shape</td>\n",
              "      <td id=\"T_af970_row6_col1\" class=\"data row6 col1\" >(1029, 54)</td>\n",
              "    </tr>\n",
              "    <tr>\n",
              "      <th id=\"T_af970_level0_row7\" class=\"row_heading level0 row7\" >7</th>\n",
              "      <td id=\"T_af970_row7_col0\" class=\"data row7 col0\" >Transformed test set shape</td>\n",
              "      <td id=\"T_af970_row7_col1\" class=\"data row7 col1\" >(441, 54)</td>\n",
              "    </tr>\n",
              "    <tr>\n",
              "      <th id=\"T_af970_level0_row8\" class=\"row_heading level0 row8\" >8</th>\n",
              "      <td id=\"T_af970_row8_col0\" class=\"data row8 col0\" >Ordinal features</td>\n",
              "      <td id=\"T_af970_row8_col1\" class=\"data row8 col1\" >2</td>\n",
              "    </tr>\n",
              "    <tr>\n",
              "      <th id=\"T_af970_level0_row9\" class=\"row_heading level0 row9\" >9</th>\n",
              "      <td id=\"T_af970_row9_col0\" class=\"data row9 col0\" >Numeric features</td>\n",
              "      <td id=\"T_af970_row9_col1\" class=\"data row9 col1\" >26</td>\n",
              "    </tr>\n",
              "    <tr>\n",
              "      <th id=\"T_af970_level0_row10\" class=\"row_heading level0 row10\" >10</th>\n",
              "      <td id=\"T_af970_row10_col0\" class=\"data row10 col0\" >Categorical features</td>\n",
              "      <td id=\"T_af970_row10_col1\" class=\"data row10 col1\" >8</td>\n",
              "    </tr>\n",
              "    <tr>\n",
              "      <th id=\"T_af970_level0_row11\" class=\"row_heading level0 row11\" >11</th>\n",
              "      <td id=\"T_af970_row11_col0\" class=\"data row11 col0\" >Preprocess</td>\n",
              "      <td id=\"T_af970_row11_col1\" class=\"data row11 col1\" >True</td>\n",
              "    </tr>\n",
              "    <tr>\n",
              "      <th id=\"T_af970_level0_row12\" class=\"row_heading level0 row12\" >12</th>\n",
              "      <td id=\"T_af970_row12_col0\" class=\"data row12 col0\" >Imputation type</td>\n",
              "      <td id=\"T_af970_row12_col1\" class=\"data row12 col1\" >simple</td>\n",
              "    </tr>\n",
              "    <tr>\n",
              "      <th id=\"T_af970_level0_row13\" class=\"row_heading level0 row13\" >13</th>\n",
              "      <td id=\"T_af970_row13_col0\" class=\"data row13 col0\" >Numeric imputation</td>\n",
              "      <td id=\"T_af970_row13_col1\" class=\"data row13 col1\" >mean</td>\n",
              "    </tr>\n",
              "    <tr>\n",
              "      <th id=\"T_af970_level0_row14\" class=\"row_heading level0 row14\" >14</th>\n",
              "      <td id=\"T_af970_row14_col0\" class=\"data row14 col0\" >Categorical imputation</td>\n",
              "      <td id=\"T_af970_row14_col1\" class=\"data row14 col1\" >mode</td>\n",
              "    </tr>\n",
              "    <tr>\n",
              "      <th id=\"T_af970_level0_row15\" class=\"row_heading level0 row15\" >15</th>\n",
              "      <td id=\"T_af970_row15_col0\" class=\"data row15 col0\" >Maximum one-hot encoding</td>\n",
              "      <td id=\"T_af970_row15_col1\" class=\"data row15 col1\" >25</td>\n",
              "    </tr>\n",
              "    <tr>\n",
              "      <th id=\"T_af970_level0_row16\" class=\"row_heading level0 row16\" >16</th>\n",
              "      <td id=\"T_af970_row16_col0\" class=\"data row16 col0\" >Encoding method</td>\n",
              "      <td id=\"T_af970_row16_col1\" class=\"data row16 col1\" >None</td>\n",
              "    </tr>\n",
              "    <tr>\n",
              "      <th id=\"T_af970_level0_row17\" class=\"row_heading level0 row17\" >17</th>\n",
              "      <td id=\"T_af970_row17_col0\" class=\"data row17 col0\" >Fold Generator</td>\n",
              "      <td id=\"T_af970_row17_col1\" class=\"data row17 col1\" >StratifiedKFold</td>\n",
              "    </tr>\n",
              "    <tr>\n",
              "      <th id=\"T_af970_level0_row18\" class=\"row_heading level0 row18\" >18</th>\n",
              "      <td id=\"T_af970_row18_col0\" class=\"data row18 col0\" >Fold Number</td>\n",
              "      <td id=\"T_af970_row18_col1\" class=\"data row18 col1\" >10</td>\n",
              "    </tr>\n",
              "    <tr>\n",
              "      <th id=\"T_af970_level0_row19\" class=\"row_heading level0 row19\" >19</th>\n",
              "      <td id=\"T_af970_row19_col0\" class=\"data row19 col0\" >CPU Jobs</td>\n",
              "      <td id=\"T_af970_row19_col1\" class=\"data row19 col1\" >-1</td>\n",
              "    </tr>\n",
              "    <tr>\n",
              "      <th id=\"T_af970_level0_row20\" class=\"row_heading level0 row20\" >20</th>\n",
              "      <td id=\"T_af970_row20_col0\" class=\"data row20 col0\" >Use GPU</td>\n",
              "      <td id=\"T_af970_row20_col1\" class=\"data row20 col1\" >False</td>\n",
              "    </tr>\n",
              "    <tr>\n",
              "      <th id=\"T_af970_level0_row21\" class=\"row_heading level0 row21\" >21</th>\n",
              "      <td id=\"T_af970_row21_col0\" class=\"data row21 col0\" >Log Experiment</td>\n",
              "      <td id=\"T_af970_row21_col1\" class=\"data row21 col1\" >False</td>\n",
              "    </tr>\n",
              "    <tr>\n",
              "      <th id=\"T_af970_level0_row22\" class=\"row_heading level0 row22\" >22</th>\n",
              "      <td id=\"T_af970_row22_col0\" class=\"data row22 col0\" >Experiment Name</td>\n",
              "      <td id=\"T_af970_row22_col1\" class=\"data row22 col1\" >clf-default-name</td>\n",
              "    </tr>\n",
              "    <tr>\n",
              "      <th id=\"T_af970_level0_row23\" class=\"row_heading level0 row23\" >23</th>\n",
              "      <td id=\"T_af970_row23_col0\" class=\"data row23 col0\" >USI</td>\n",
              "      <td id=\"T_af970_row23_col1\" class=\"data row23 col1\" >3f24</td>\n",
              "    </tr>\n",
              "  </tbody>\n",
              "</table>\n"
            ]
          },
          "metadata": {}
        },
        {
          "output_type": "display_data",
          "data": {
            "text/plain": [
              "                                                \\\n",
              "                                                 \n",
              "Initiated  . . . . . . . . . . . . . . . . . .   \n",
              "Status     . . . . . . . . . . . . . . . . . .   \n",
              "Estimator  . . . . . . . . . . . . . . . . . .   \n",
              "\n",
              "                                            \n",
              "                                            \n",
              "Initiated                         21:38:07  \n",
              "Status                    Fitting 10 Folds  \n",
              "Estimator  Light Gradient Boosting Machine  "
            ],
            "text/html": [
              "\n",
              "  <div id=\"df-d377c44c-27ab-41e8-af5d-63948cb9cd66\" class=\"colab-df-container\">\n",
              "    <div>\n",
              "<style scoped>\n",
              "    .dataframe tbody tr th:only-of-type {\n",
              "        vertical-align: middle;\n",
              "    }\n",
              "\n",
              "    .dataframe tbody tr th {\n",
              "        vertical-align: top;\n",
              "    }\n",
              "\n",
              "    .dataframe thead th {\n",
              "        text-align: right;\n",
              "    }\n",
              "</style>\n",
              "<table border=\"1\" class=\"dataframe\">\n",
              "  <thead>\n",
              "    <tr style=\"text-align: right;\">\n",
              "      <th></th>\n",
              "      <th></th>\n",
              "      <th></th>\n",
              "    </tr>\n",
              "    <tr>\n",
              "      <th></th>\n",
              "      <th></th>\n",
              "      <th></th>\n",
              "    </tr>\n",
              "  </thead>\n",
              "  <tbody>\n",
              "    <tr>\n",
              "      <th>Initiated</th>\n",
              "      <td>. . . . . . . . . . . . . . . . . .</td>\n",
              "      <td>21:38:07</td>\n",
              "    </tr>\n",
              "    <tr>\n",
              "      <th>Status</th>\n",
              "      <td>. . . . . . . . . . . . . . . . . .</td>\n",
              "      <td>Fitting 10 Folds</td>\n",
              "    </tr>\n",
              "    <tr>\n",
              "      <th>Estimator</th>\n",
              "      <td>. . . . . . . . . . . . . . . . . .</td>\n",
              "      <td>Light Gradient Boosting Machine</td>\n",
              "    </tr>\n",
              "  </tbody>\n",
              "</table>\n",
              "</div>\n",
              "    <div class=\"colab-df-buttons\">\n",
              "\n",
              "  <div class=\"colab-df-container\">\n",
              "    <button class=\"colab-df-convert\" onclick=\"convertToInteractive('df-d377c44c-27ab-41e8-af5d-63948cb9cd66')\"\n",
              "            title=\"Convert this dataframe to an interactive table.\"\n",
              "            style=\"display:none;\">\n",
              "\n",
              "  <svg xmlns=\"http://www.w3.org/2000/svg\" height=\"24px\" viewBox=\"0 -960 960 960\">\n",
              "    <path d=\"M120-120v-720h720v720H120Zm60-500h600v-160H180v160Zm220 220h160v-160H400v160Zm0 220h160v-160H400v160ZM180-400h160v-160H180v160Zm440 0h160v-160H620v160ZM180-180h160v-160H180v160Zm440 0h160v-160H620v160Z\"/>\n",
              "  </svg>\n",
              "    </button>\n",
              "\n",
              "  <style>\n",
              "    .colab-df-container {\n",
              "      display:flex;\n",
              "      gap: 12px;\n",
              "    }\n",
              "\n",
              "    .colab-df-convert {\n",
              "      background-color: #E8F0FE;\n",
              "      border: none;\n",
              "      border-radius: 50%;\n",
              "      cursor: pointer;\n",
              "      display: none;\n",
              "      fill: #1967D2;\n",
              "      height: 32px;\n",
              "      padding: 0 0 0 0;\n",
              "      width: 32px;\n",
              "    }\n",
              "\n",
              "    .colab-df-convert:hover {\n",
              "      background-color: #E2EBFA;\n",
              "      box-shadow: 0px 1px 2px rgba(60, 64, 67, 0.3), 0px 1px 3px 1px rgba(60, 64, 67, 0.15);\n",
              "      fill: #174EA6;\n",
              "    }\n",
              "\n",
              "    .colab-df-buttons div {\n",
              "      margin-bottom: 4px;\n",
              "    }\n",
              "\n",
              "    [theme=dark] .colab-df-convert {\n",
              "      background-color: #3B4455;\n",
              "      fill: #D2E3FC;\n",
              "    }\n",
              "\n",
              "    [theme=dark] .colab-df-convert:hover {\n",
              "      background-color: #434B5C;\n",
              "      box-shadow: 0px 1px 3px 1px rgba(0, 0, 0, 0.15);\n",
              "      filter: drop-shadow(0px 1px 2px rgba(0, 0, 0, 0.3));\n",
              "      fill: #FFFFFF;\n",
              "    }\n",
              "  </style>\n",
              "\n",
              "    <script>\n",
              "      const buttonEl =\n",
              "        document.querySelector('#df-d377c44c-27ab-41e8-af5d-63948cb9cd66 button.colab-df-convert');\n",
              "      buttonEl.style.display =\n",
              "        google.colab.kernel.accessAllowed ? 'block' : 'none';\n",
              "\n",
              "      async function convertToInteractive(key) {\n",
              "        const element = document.querySelector('#df-d377c44c-27ab-41e8-af5d-63948cb9cd66');\n",
              "        const dataTable =\n",
              "          await google.colab.kernel.invokeFunction('convertToInteractive',\n",
              "                                                    [key], {});\n",
              "        if (!dataTable) return;\n",
              "\n",
              "        const docLinkHtml = 'Like what you see? Visit the ' +\n",
              "          '<a target=\"_blank\" href=https://colab.research.google.com/notebooks/data_table.ipynb>data table notebook</a>'\n",
              "          + ' to learn more about interactive tables.';\n",
              "        element.innerHTML = '';\n",
              "        dataTable['output_type'] = 'display_data';\n",
              "        await google.colab.output.renderOutput(dataTable, element);\n",
              "        const docLink = document.createElement('div');\n",
              "        docLink.innerHTML = docLinkHtml;\n",
              "        element.appendChild(docLink);\n",
              "      }\n",
              "    </script>\n",
              "  </div>\n",
              "\n",
              "\n",
              "<div id=\"df-cd2b5123-1b0a-4a2c-8333-d28dd30b3366\">\n",
              "  <button class=\"colab-df-quickchart\" onclick=\"quickchart('df-cd2b5123-1b0a-4a2c-8333-d28dd30b3366')\"\n",
              "            title=\"Suggest charts\"\n",
              "            style=\"display:none;\">\n",
              "\n",
              "<svg xmlns=\"http://www.w3.org/2000/svg\" height=\"24px\"viewBox=\"0 0 24 24\"\n",
              "     width=\"24px\">\n",
              "    <g>\n",
              "        <path d=\"M19 3H5c-1.1 0-2 .9-2 2v14c0 1.1.9 2 2 2h14c1.1 0 2-.9 2-2V5c0-1.1-.9-2-2-2zM9 17H7v-7h2v7zm4 0h-2V7h2v10zm4 0h-2v-4h2v4z\"/>\n",
              "    </g>\n",
              "</svg>\n",
              "  </button>\n",
              "\n",
              "<style>\n",
              "  .colab-df-quickchart {\n",
              "      --bg-color: #E8F0FE;\n",
              "      --fill-color: #1967D2;\n",
              "      --hover-bg-color: #E2EBFA;\n",
              "      --hover-fill-color: #174EA6;\n",
              "      --disabled-fill-color: #AAA;\n",
              "      --disabled-bg-color: #DDD;\n",
              "  }\n",
              "\n",
              "  [theme=dark] .colab-df-quickchart {\n",
              "      --bg-color: #3B4455;\n",
              "      --fill-color: #D2E3FC;\n",
              "      --hover-bg-color: #434B5C;\n",
              "      --hover-fill-color: #FFFFFF;\n",
              "      --disabled-bg-color: #3B4455;\n",
              "      --disabled-fill-color: #666;\n",
              "  }\n",
              "\n",
              "  .colab-df-quickchart {\n",
              "    background-color: var(--bg-color);\n",
              "    border: none;\n",
              "    border-radius: 50%;\n",
              "    cursor: pointer;\n",
              "    display: none;\n",
              "    fill: var(--fill-color);\n",
              "    height: 32px;\n",
              "    padding: 0;\n",
              "    width: 32px;\n",
              "  }\n",
              "\n",
              "  .colab-df-quickchart:hover {\n",
              "    background-color: var(--hover-bg-color);\n",
              "    box-shadow: 0 1px 2px rgba(60, 64, 67, 0.3), 0 1px 3px 1px rgba(60, 64, 67, 0.15);\n",
              "    fill: var(--button-hover-fill-color);\n",
              "  }\n",
              "\n",
              "  .colab-df-quickchart-complete:disabled,\n",
              "  .colab-df-quickchart-complete:disabled:hover {\n",
              "    background-color: var(--disabled-bg-color);\n",
              "    fill: var(--disabled-fill-color);\n",
              "    box-shadow: none;\n",
              "  }\n",
              "\n",
              "  .colab-df-spinner {\n",
              "    border: 2px solid var(--fill-color);\n",
              "    border-color: transparent;\n",
              "    border-bottom-color: var(--fill-color);\n",
              "    animation:\n",
              "      spin 1s steps(1) infinite;\n",
              "  }\n",
              "\n",
              "  @keyframes spin {\n",
              "    0% {\n",
              "      border-color: transparent;\n",
              "      border-bottom-color: var(--fill-color);\n",
              "      border-left-color: var(--fill-color);\n",
              "    }\n",
              "    20% {\n",
              "      border-color: transparent;\n",
              "      border-left-color: var(--fill-color);\n",
              "      border-top-color: var(--fill-color);\n",
              "    }\n",
              "    30% {\n",
              "      border-color: transparent;\n",
              "      border-left-color: var(--fill-color);\n",
              "      border-top-color: var(--fill-color);\n",
              "      border-right-color: var(--fill-color);\n",
              "    }\n",
              "    40% {\n",
              "      border-color: transparent;\n",
              "      border-right-color: var(--fill-color);\n",
              "      border-top-color: var(--fill-color);\n",
              "    }\n",
              "    60% {\n",
              "      border-color: transparent;\n",
              "      border-right-color: var(--fill-color);\n",
              "    }\n",
              "    80% {\n",
              "      border-color: transparent;\n",
              "      border-right-color: var(--fill-color);\n",
              "      border-bottom-color: var(--fill-color);\n",
              "    }\n",
              "    90% {\n",
              "      border-color: transparent;\n",
              "      border-bottom-color: var(--fill-color);\n",
              "    }\n",
              "  }\n",
              "</style>\n",
              "\n",
              "  <script>\n",
              "    async function quickchart(key) {\n",
              "      const quickchartButtonEl =\n",
              "        document.querySelector('#' + key + ' button');\n",
              "      quickchartButtonEl.disabled = true;  // To prevent multiple clicks.\n",
              "      quickchartButtonEl.classList.add('colab-df-spinner');\n",
              "      try {\n",
              "        const charts = await google.colab.kernel.invokeFunction(\n",
              "            'suggestCharts', [key], {});\n",
              "      } catch (error) {\n",
              "        console.error('Error during call to suggestCharts:', error);\n",
              "      }\n",
              "      quickchartButtonEl.classList.remove('colab-df-spinner');\n",
              "      quickchartButtonEl.classList.add('colab-df-quickchart-complete');\n",
              "    }\n",
              "    (() => {\n",
              "      let quickchartButtonEl =\n",
              "        document.querySelector('#df-cd2b5123-1b0a-4a2c-8333-d28dd30b3366 button');\n",
              "      quickchartButtonEl.style.display =\n",
              "        google.colab.kernel.accessAllowed ? 'block' : 'none';\n",
              "    })();\n",
              "  </script>\n",
              "</div>\n",
              "\n",
              "    </div>\n",
              "  </div>\n"
            ]
          },
          "metadata": {}
        },
        {
          "output_type": "display_data",
          "data": {
            "text/plain": [
              "<pandas.io.formats.style.Styler at 0x793359f76320>"
            ],
            "text/html": [
              "<style type=\"text/css\">\n",
              "#T_0aea4 th {\n",
              "  text-align: left;\n",
              "}\n",
              "#T_0aea4_row0_col0, #T_0aea4_row0_col1, #T_0aea4_row0_col2, #T_0aea4_row0_col3, #T_0aea4_row0_col4, #T_0aea4_row0_col5, #T_0aea4_row0_col6, #T_0aea4_row0_col7, #T_0aea4_row0_col8, #T_0aea4_row1_col0, #T_0aea4_row1_col1, #T_0aea4_row1_col2, #T_0aea4_row1_col3, #T_0aea4_row1_col4, #T_0aea4_row1_col5, #T_0aea4_row1_col6, #T_0aea4_row1_col7, #T_0aea4_row1_col8, #T_0aea4_row2_col0, #T_0aea4_row2_col1, #T_0aea4_row2_col2, #T_0aea4_row2_col3, #T_0aea4_row2_col4, #T_0aea4_row2_col5, #T_0aea4_row2_col6, #T_0aea4_row2_col7, #T_0aea4_row2_col8, #T_0aea4_row3_col0, #T_0aea4_row3_col1, #T_0aea4_row3_col2, #T_0aea4_row3_col3, #T_0aea4_row3_col4, #T_0aea4_row3_col5, #T_0aea4_row3_col6, #T_0aea4_row3_col7, #T_0aea4_row3_col8, #T_0aea4_row4_col0, #T_0aea4_row4_col1, #T_0aea4_row4_col2, #T_0aea4_row4_col3, #T_0aea4_row4_col4, #T_0aea4_row4_col5, #T_0aea4_row4_col6, #T_0aea4_row4_col7, #T_0aea4_row4_col8, #T_0aea4_row5_col0, #T_0aea4_row5_col1, #T_0aea4_row5_col2, #T_0aea4_row5_col3, #T_0aea4_row5_col4, #T_0aea4_row5_col5, #T_0aea4_row5_col6, #T_0aea4_row5_col7, #T_0aea4_row5_col8, #T_0aea4_row6_col0, #T_0aea4_row6_col1, #T_0aea4_row6_col2, #T_0aea4_row6_col3, #T_0aea4_row6_col4, #T_0aea4_row6_col5, #T_0aea4_row6_col6, #T_0aea4_row6_col7, #T_0aea4_row6_col8, #T_0aea4_row7_col0, #T_0aea4_row7_col1, #T_0aea4_row7_col2, #T_0aea4_row7_col3, #T_0aea4_row7_col4, #T_0aea4_row7_col5, #T_0aea4_row7_col6, #T_0aea4_row7_col7, #T_0aea4_row7_col8, #T_0aea4_row8_col0, #T_0aea4_row8_col1, #T_0aea4_row8_col2, #T_0aea4_row8_col3, #T_0aea4_row8_col4, #T_0aea4_row8_col5, #T_0aea4_row8_col6, #T_0aea4_row8_col7, #T_0aea4_row8_col8, #T_0aea4_row9_col0, #T_0aea4_row9_col1, #T_0aea4_row9_col2, #T_0aea4_row9_col3, #T_0aea4_row9_col4, #T_0aea4_row9_col5, #T_0aea4_row9_col6, #T_0aea4_row9_col7, #T_0aea4_row9_col8, #T_0aea4_row10_col0, #T_0aea4_row10_col1, #T_0aea4_row10_col2, #T_0aea4_row10_col3, #T_0aea4_row10_col4, #T_0aea4_row10_col5, #T_0aea4_row10_col6, #T_0aea4_row10_col7, #T_0aea4_row10_col8, #T_0aea4_row11_col0, #T_0aea4_row11_col1, #T_0aea4_row11_col2, #T_0aea4_row11_col3, #T_0aea4_row11_col4, #T_0aea4_row11_col5, #T_0aea4_row11_col6, #T_0aea4_row11_col7, #T_0aea4_row11_col8, #T_0aea4_row12_col0, #T_0aea4_row12_col1, #T_0aea4_row12_col2, #T_0aea4_row12_col3, #T_0aea4_row12_col4, #T_0aea4_row12_col5, #T_0aea4_row12_col6, #T_0aea4_row12_col7, #T_0aea4_row12_col8 {\n",
              "  text-align: left;\n",
              "}\n",
              "</style>\n",
              "<table id=\"T_0aea4\" class=\"dataframe\">\n",
              "  <thead>\n",
              "    <tr>\n",
              "      <th class=\"blank level0\" >&nbsp;</th>\n",
              "      <th id=\"T_0aea4_level0_col0\" class=\"col_heading level0 col0\" >Model</th>\n",
              "      <th id=\"T_0aea4_level0_col1\" class=\"col_heading level0 col1\" >Accuracy</th>\n",
              "      <th id=\"T_0aea4_level0_col2\" class=\"col_heading level0 col2\" >AUC</th>\n",
              "      <th id=\"T_0aea4_level0_col3\" class=\"col_heading level0 col3\" >Recall</th>\n",
              "      <th id=\"T_0aea4_level0_col4\" class=\"col_heading level0 col4\" >Prec.</th>\n",
              "      <th id=\"T_0aea4_level0_col5\" class=\"col_heading level0 col5\" >F1</th>\n",
              "      <th id=\"T_0aea4_level0_col6\" class=\"col_heading level0 col6\" >Kappa</th>\n",
              "      <th id=\"T_0aea4_level0_col7\" class=\"col_heading level0 col7\" >MCC</th>\n",
              "      <th id=\"T_0aea4_level0_col8\" class=\"col_heading level0 col8\" >TT (Sec)</th>\n",
              "    </tr>\n",
              "  </thead>\n",
              "  <tbody>\n",
              "    <tr>\n",
              "      <th id=\"T_0aea4_level0_row0\" class=\"row_heading level0 row0\" >gbc</th>\n",
              "      <td id=\"T_0aea4_row0_col0\" class=\"data row0 col0\" >Gradient Boosting Classifier</td>\n",
              "      <td id=\"T_0aea4_row0_col1\" class=\"data row0 col1\" >0.8649</td>\n",
              "      <td id=\"T_0aea4_row0_col2\" class=\"data row0 col2\" >0.7609</td>\n",
              "      <td id=\"T_0aea4_row0_col3\" class=\"data row0 col3\" >0.8649</td>\n",
              "      <td id=\"T_0aea4_row0_col4\" class=\"data row0 col4\" >0.8513</td>\n",
              "      <td id=\"T_0aea4_row0_col5\" class=\"data row0 col5\" >0.8366</td>\n",
              "      <td id=\"T_0aea4_row0_col6\" class=\"data row0 col6\" >0.3243</td>\n",
              "      <td id=\"T_0aea4_row0_col7\" class=\"data row0 col7\" >0.3802</td>\n",
              "      <td id=\"T_0aea4_row0_col8\" class=\"data row0 col8\" >0.1420</td>\n",
              "    </tr>\n",
              "    <tr>\n",
              "      <th id=\"T_0aea4_level0_row1\" class=\"row_heading level0 row1\" >ada</th>\n",
              "      <td id=\"T_0aea4_row1_col0\" class=\"data row1 col0\" >Ada Boost Classifier</td>\n",
              "      <td id=\"T_0aea4_row1_col1\" class=\"data row1 col1\" >0.8640</td>\n",
              "      <td id=\"T_0aea4_row1_col2\" class=\"data row1 col2\" >0.7870</td>\n",
              "      <td id=\"T_0aea4_row1_col3\" class=\"data row1 col3\" >0.8640</td>\n",
              "      <td id=\"T_0aea4_row1_col4\" class=\"data row1 col4\" >0.8466</td>\n",
              "      <td id=\"T_0aea4_row1_col5\" class=\"data row1 col5\" >0.8452</td>\n",
              "      <td id=\"T_0aea4_row1_col6\" class=\"data row1 col6\" >0.3755</td>\n",
              "      <td id=\"T_0aea4_row1_col7\" class=\"data row1 col7\" >0.4021</td>\n",
              "      <td id=\"T_0aea4_row1_col8\" class=\"data row1 col8\" >0.0900</td>\n",
              "    </tr>\n",
              "    <tr>\n",
              "      <th id=\"T_0aea4_level0_row2\" class=\"row_heading level0 row2\" >lda</th>\n",
              "      <td id=\"T_0aea4_row2_col0\" class=\"data row2 col0\" >Linear Discriminant Analysis</td>\n",
              "      <td id=\"T_0aea4_row2_col1\" class=\"data row2 col1\" >0.8640</td>\n",
              "      <td id=\"T_0aea4_row2_col2\" class=\"data row2 col2\" >0.8140</td>\n",
              "      <td id=\"T_0aea4_row2_col3\" class=\"data row2 col3\" >0.8640</td>\n",
              "      <td id=\"T_0aea4_row2_col4\" class=\"data row2 col4\" >0.8497</td>\n",
              "      <td id=\"T_0aea4_row2_col5\" class=\"data row2 col5\" >0.8481</td>\n",
              "      <td id=\"T_0aea4_row2_col6\" class=\"data row2 col6\" >0.3916</td>\n",
              "      <td id=\"T_0aea4_row2_col7\" class=\"data row2 col7\" >0.4158</td>\n",
              "      <td id=\"T_0aea4_row2_col8\" class=\"data row2 col8\" >0.0540</td>\n",
              "    </tr>\n",
              "    <tr>\n",
              "      <th id=\"T_0aea4_level0_row3\" class=\"row_heading level0 row3\" >ridge</th>\n",
              "      <td id=\"T_0aea4_row3_col0\" class=\"data row3 col0\" >Ridge Classifier</td>\n",
              "      <td id=\"T_0aea4_row3_col1\" class=\"data row3 col1\" >0.8610</td>\n",
              "      <td id=\"T_0aea4_row3_col2\" class=\"data row3 col2\" >0.0000</td>\n",
              "      <td id=\"T_0aea4_row3_col3\" class=\"data row3 col3\" >0.8610</td>\n",
              "      <td id=\"T_0aea4_row3_col4\" class=\"data row3 col4\" >0.8478</td>\n",
              "      <td id=\"T_0aea4_row3_col5\" class=\"data row3 col5\" >0.8206</td>\n",
              "      <td id=\"T_0aea4_row3_col6\" class=\"data row3 col6\" >0.2469</td>\n",
              "      <td id=\"T_0aea4_row3_col7\" class=\"data row3 col7\" >0.3261</td>\n",
              "      <td id=\"T_0aea4_row3_col8\" class=\"data row3 col8\" >0.0560</td>\n",
              "    </tr>\n",
              "    <tr>\n",
              "      <th id=\"T_0aea4_level0_row4\" class=\"row_heading level0 row4\" >xgboost</th>\n",
              "      <td id=\"T_0aea4_row4_col0\" class=\"data row4 col0\" >Extreme Gradient Boosting</td>\n",
              "      <td id=\"T_0aea4_row4_col1\" class=\"data row4 col1\" >0.8601</td>\n",
              "      <td id=\"T_0aea4_row4_col2\" class=\"data row4 col2\" >0.7733</td>\n",
              "      <td id=\"T_0aea4_row4_col3\" class=\"data row4 col3\" >0.8601</td>\n",
              "      <td id=\"T_0aea4_row4_col4\" class=\"data row4 col4\" >0.8382</td>\n",
              "      <td id=\"T_0aea4_row4_col5\" class=\"data row4 col5\" >0.8355</td>\n",
              "      <td id=\"T_0aea4_row4_col6\" class=\"data row4 col6\" >0.3259</td>\n",
              "      <td id=\"T_0aea4_row4_col7\" class=\"data row4 col7\" >0.3607</td>\n",
              "      <td id=\"T_0aea4_row4_col8\" class=\"data row4 col8\" >0.0850</td>\n",
              "    </tr>\n",
              "    <tr>\n",
              "      <th id=\"T_0aea4_level0_row5\" class=\"row_heading level0 row5\" >rf</th>\n",
              "      <td id=\"T_0aea4_row5_col0\" class=\"data row5 col0\" >Random Forest Classifier</td>\n",
              "      <td id=\"T_0aea4_row5_col1\" class=\"data row5 col1\" >0.8542</td>\n",
              "      <td id=\"T_0aea4_row5_col2\" class=\"data row5 col2\" >0.7749</td>\n",
              "      <td id=\"T_0aea4_row5_col3\" class=\"data row5 col3\" >0.8542</td>\n",
              "      <td id=\"T_0aea4_row5_col4\" class=\"data row5 col4\" >0.8421</td>\n",
              "      <td id=\"T_0aea4_row5_col5\" class=\"data row5 col5\" >0.8033</td>\n",
              "      <td id=\"T_0aea4_row5_col6\" class=\"data row5 col6\" >0.1673</td>\n",
              "      <td id=\"T_0aea4_row5_col7\" class=\"data row5 col7\" >0.2647</td>\n",
              "      <td id=\"T_0aea4_row5_col8\" class=\"data row5 col8\" >0.1370</td>\n",
              "    </tr>\n",
              "    <tr>\n",
              "      <th id=\"T_0aea4_level0_row6\" class=\"row_heading level0 row6\" >et</th>\n",
              "      <td id=\"T_0aea4_row6_col0\" class=\"data row6 col0\" >Extra Trees Classifier</td>\n",
              "      <td id=\"T_0aea4_row6_col1\" class=\"data row6 col1\" >0.8523</td>\n",
              "      <td id=\"T_0aea4_row6_col2\" class=\"data row6 col2\" >0.7863</td>\n",
              "      <td id=\"T_0aea4_row6_col3\" class=\"data row6 col3\" >0.8523</td>\n",
              "      <td id=\"T_0aea4_row6_col4\" class=\"data row6 col4\" >0.8245</td>\n",
              "      <td id=\"T_0aea4_row6_col5\" class=\"data row6 col5\" >0.8064</td>\n",
              "      <td id=\"T_0aea4_row6_col6\" class=\"data row6 col6\" >0.1839</td>\n",
              "      <td id=\"T_0aea4_row6_col7\" class=\"data row6 col7\" >0.2547</td>\n",
              "      <td id=\"T_0aea4_row6_col8\" class=\"data row6 col8\" >0.1170</td>\n",
              "    </tr>\n",
              "    <tr>\n",
              "      <th id=\"T_0aea4_level0_row7\" class=\"row_heading level0 row7\" >lr</th>\n",
              "      <td id=\"T_0aea4_row7_col0\" class=\"data row7 col0\" >Logistic Regression</td>\n",
              "      <td id=\"T_0aea4_row7_col1\" class=\"data row7 col1\" >0.8445</td>\n",
              "      <td id=\"T_0aea4_row7_col2\" class=\"data row7 col2\" >0.7525</td>\n",
              "      <td id=\"T_0aea4_row7_col3\" class=\"data row7 col3\" >0.8445</td>\n",
              "      <td id=\"T_0aea4_row7_col4\" class=\"data row7 col4\" >0.8201</td>\n",
              "      <td id=\"T_0aea4_row7_col5\" class=\"data row7 col5\" >0.8083</td>\n",
              "      <td id=\"T_0aea4_row7_col6\" class=\"data row7 col6\" >0.2046</td>\n",
              "      <td id=\"T_0aea4_row7_col7\" class=\"data row7 col7\" >0.2604</td>\n",
              "      <td id=\"T_0aea4_row7_col8\" class=\"data row7 col8\" >0.5680</td>\n",
              "    </tr>\n",
              "    <tr>\n",
              "      <th id=\"T_0aea4_level0_row8\" class=\"row_heading level0 row8\" >knn</th>\n",
              "      <td id=\"T_0aea4_row8_col0\" class=\"data row8 col0\" >K Neighbors Classifier</td>\n",
              "      <td id=\"T_0aea4_row8_col1\" class=\"data row8 col1\" >0.8085</td>\n",
              "      <td id=\"T_0aea4_row8_col2\" class=\"data row8 col2\" >0.5717</td>\n",
              "      <td id=\"T_0aea4_row8_col3\" class=\"data row8 col3\" >0.8085</td>\n",
              "      <td id=\"T_0aea4_row8_col4\" class=\"data row8 col4\" >0.7510</td>\n",
              "      <td id=\"T_0aea4_row8_col5\" class=\"data row8 col5\" >0.7699</td>\n",
              "      <td id=\"T_0aea4_row8_col6\" class=\"data row8 col6\" >0.0518</td>\n",
              "      <td id=\"T_0aea4_row8_col7\" class=\"data row8 col7\" >0.0642</td>\n",
              "      <td id=\"T_0aea4_row8_col8\" class=\"data row8 col8\" >0.0580</td>\n",
              "    </tr>\n",
              "    <tr>\n",
              "      <th id=\"T_0aea4_level0_row9\" class=\"row_heading level0 row9\" >dt</th>\n",
              "      <td id=\"T_0aea4_row9_col0\" class=\"data row9 col0\" >Decision Tree Classifier</td>\n",
              "      <td id=\"T_0aea4_row9_col1\" class=\"data row9 col1\" >0.7775</td>\n",
              "      <td id=\"T_0aea4_row9_col2\" class=\"data row9 col2\" >0.6049</td>\n",
              "      <td id=\"T_0aea4_row9_col3\" class=\"data row9 col3\" >0.7775</td>\n",
              "      <td id=\"T_0aea4_row9_col4\" class=\"data row9 col4\" >0.7851</td>\n",
              "      <td id=\"T_0aea4_row9_col5\" class=\"data row9 col5\" >0.7802</td>\n",
              "      <td id=\"T_0aea4_row9_col6\" class=\"data row9 col6\" >0.2026</td>\n",
              "      <td id=\"T_0aea4_row9_col7\" class=\"data row9 col7\" >0.2042</td>\n",
              "      <td id=\"T_0aea4_row9_col8\" class=\"data row9 col8\" >0.0570</td>\n",
              "    </tr>\n",
              "    <tr>\n",
              "      <th id=\"T_0aea4_level0_row10\" class=\"row_heading level0 row10\" >nb</th>\n",
              "      <td id=\"T_0aea4_row10_col0\" class=\"data row10 col0\" >Naive Bayes</td>\n",
              "      <td id=\"T_0aea4_row10_col1\" class=\"data row10 col1\" >0.7755</td>\n",
              "      <td id=\"T_0aea4_row10_col2\" class=\"data row10 col2\" >0.7527</td>\n",
              "      <td id=\"T_0aea4_row10_col3\" class=\"data row10 col3\" >0.7755</td>\n",
              "      <td id=\"T_0aea4_row10_col4\" class=\"data row10 col4\" >0.8284</td>\n",
              "      <td id=\"T_0aea4_row10_col5\" class=\"data row10 col5\" >0.7940</td>\n",
              "      <td id=\"T_0aea4_row10_col6\" class=\"data row10 col6\" >0.3322</td>\n",
              "      <td id=\"T_0aea4_row10_col7\" class=\"data row10 col7\" >0.3484</td>\n",
              "      <td id=\"T_0aea4_row10_col8\" class=\"data row10 col8\" >0.0540</td>\n",
              "    </tr>\n",
              "    <tr>\n",
              "      <th id=\"T_0aea4_level0_row11\" class=\"row_heading level0 row11\" >svm</th>\n",
              "      <td id=\"T_0aea4_row11_col0\" class=\"data row11 col0\" >SVM - Linear Kernel</td>\n",
              "      <td id=\"T_0aea4_row11_col1\" class=\"data row11 col1\" >0.7290</td>\n",
              "      <td id=\"T_0aea4_row11_col2\" class=\"data row11 col2\" >0.0000</td>\n",
              "      <td id=\"T_0aea4_row11_col3\" class=\"data row11 col3\" >0.7290</td>\n",
              "      <td id=\"T_0aea4_row11_col4\" class=\"data row11 col4\" >0.6407</td>\n",
              "      <td id=\"T_0aea4_row11_col5\" class=\"data row11 col5\" >0.6674</td>\n",
              "      <td id=\"T_0aea4_row11_col6\" class=\"data row11 col6\" >-0.0056</td>\n",
              "      <td id=\"T_0aea4_row11_col7\" class=\"data row11 col7\" >-0.0052</td>\n",
              "      <td id=\"T_0aea4_row11_col8\" class=\"data row11 col8\" >0.0600</td>\n",
              "    </tr>\n",
              "    <tr>\n",
              "      <th id=\"T_0aea4_level0_row12\" class=\"row_heading level0 row12\" >qda</th>\n",
              "      <td id=\"T_0aea4_row12_col0\" class=\"data row12 col0\" >Quadratic Discriminant Analysis</td>\n",
              "      <td id=\"T_0aea4_row12_col1\" class=\"data row12 col1\" >0.3818</td>\n",
              "      <td id=\"T_0aea4_row12_col2\" class=\"data row12 col2\" >0.6585</td>\n",
              "      <td id=\"T_0aea4_row12_col3\" class=\"data row12 col3\" >0.3818</td>\n",
              "      <td id=\"T_0aea4_row12_col4\" class=\"data row12 col4\" >0.7838</td>\n",
              "      <td id=\"T_0aea4_row12_col5\" class=\"data row12 col5\" >0.4039</td>\n",
              "      <td id=\"T_0aea4_row12_col6\" class=\"data row12 col6\" >0.0474</td>\n",
              "      <td id=\"T_0aea4_row12_col7\" class=\"data row12 col7\" >0.0952</td>\n",
              "      <td id=\"T_0aea4_row12_col8\" class=\"data row12 col8\" >0.0510</td>\n",
              "    </tr>\n",
              "  </tbody>\n",
              "</table>\n"
            ]
          },
          "metadata": {}
        },
        {
          "output_type": "display_data",
          "data": {
            "text/plain": [
              "Processing:   0%|          | 0/65 [00:00<?, ?it/s]"
            ],
            "application/vnd.jupyter.widget-view+json": {
              "version_major": 2,
              "version_minor": 0,
              "model_id": "9f1b86113ec34f51b87eb1148d8e66b4"
            }
          },
          "metadata": {
            "application/vnd.jupyter.widget-view+json": {
              "colab": {
                "custom_widget_manager": {
                  "url": "https://ssl.gstatic.com/colaboratory-static/widgets/colab-cdn-widget-manager/b3e629b1971e1542/manager.min.js"
                }
              }
            }
          }
        },
        {
          "output_type": "error",
          "ename": "KeyboardInterrupt",
          "evalue": "ignored",
          "traceback": [
            "\u001b[0;31m---------------------------------------------------------------------------\u001b[0m",
            "\u001b[0;31mKeyboardInterrupt\u001b[0m                         Traceback (most recent call last)",
            "\u001b[0;32m<ipython-input-18-e0b3a22347ed>\u001b[0m in \u001b[0;36m<cell line: 8>\u001b[0;34m()\u001b[0m\n\u001b[1;32m      6\u001b[0m \u001b[0;34m\u001b[0m\u001b[0m\n\u001b[1;32m      7\u001b[0m \u001b[0;31m# 모델 비교 (LightGBM 모델 제외)\u001b[0m\u001b[0;34m\u001b[0m\u001b[0;34m\u001b[0m\u001b[0m\n\u001b[0;32m----> 8\u001b[0;31m \u001b[0mbest_model\u001b[0m \u001b[0;34m=\u001b[0m \u001b[0mcompare_models\u001b[0m\u001b[0;34m(\u001b[0m\u001b[0;34m)\u001b[0m\u001b[0;34m\u001b[0m\u001b[0;34m\u001b[0m\u001b[0m\n\u001b[0m",
            "\u001b[0;32m/usr/local/lib/python3.10/dist-packages/pycaret/utils/generic.py\u001b[0m in \u001b[0;36mwrapper\u001b[0;34m(*args, **kwargs)\u001b[0m\n\u001b[1;32m    963\u001b[0m                 \u001b[0;32mif\u001b[0m \u001b[0mglobals_d\u001b[0m\u001b[0;34m[\u001b[0m\u001b[0mname\u001b[0m\u001b[0;34m]\u001b[0m \u001b[0;32mis\u001b[0m \u001b[0;32mNone\u001b[0m\u001b[0;34m:\u001b[0m\u001b[0;34m\u001b[0m\u001b[0;34m\u001b[0m\u001b[0m\n\u001b[1;32m    964\u001b[0m                     \u001b[0;32mraise\u001b[0m \u001b[0mValueError\u001b[0m\u001b[0;34m(\u001b[0m\u001b[0mmessage\u001b[0m\u001b[0;34m)\u001b[0m\u001b[0;34m\u001b[0m\u001b[0;34m\u001b[0m\u001b[0m\n\u001b[0;32m--> 965\u001b[0;31m             \u001b[0;32mreturn\u001b[0m \u001b[0mfunc\u001b[0m\u001b[0;34m(\u001b[0m\u001b[0;34m*\u001b[0m\u001b[0margs\u001b[0m\u001b[0;34m,\u001b[0m \u001b[0;34m**\u001b[0m\u001b[0mkwargs\u001b[0m\u001b[0;34m)\u001b[0m\u001b[0;34m\u001b[0m\u001b[0;34m\u001b[0m\u001b[0m\n\u001b[0m\u001b[1;32m    966\u001b[0m \u001b[0;34m\u001b[0m\u001b[0m\n\u001b[1;32m    967\u001b[0m         \u001b[0;32mreturn\u001b[0m \u001b[0mwrapper\u001b[0m\u001b[0;34m\u001b[0m\u001b[0;34m\u001b[0m\u001b[0m\n",
            "\u001b[0;32m/usr/local/lib/python3.10/dist-packages/pycaret/classification/functional.py\u001b[0m in \u001b[0;36mcompare_models\u001b[0;34m(include, exclude, fold, round, cross_validation, sort, n_select, budget_time, turbo, errors, fit_kwargs, groups, experiment_custom_tags, probability_threshold, engine, verbose, parallel)\u001b[0m\n\u001b[1;32m    812\u001b[0m     \"\"\"\n\u001b[1;32m    813\u001b[0m \u001b[0;34m\u001b[0m\u001b[0m\n\u001b[0;32m--> 814\u001b[0;31m     return _CURRENT_EXPERIMENT.compare_models(\n\u001b[0m\u001b[1;32m    815\u001b[0m         \u001b[0minclude\u001b[0m\u001b[0;34m=\u001b[0m\u001b[0minclude\u001b[0m\u001b[0;34m,\u001b[0m\u001b[0;34m\u001b[0m\u001b[0;34m\u001b[0m\u001b[0m\n\u001b[1;32m    816\u001b[0m         \u001b[0mexclude\u001b[0m\u001b[0;34m=\u001b[0m\u001b[0mexclude\u001b[0m\u001b[0;34m,\u001b[0m\u001b[0;34m\u001b[0m\u001b[0;34m\u001b[0m\u001b[0m\n",
            "\u001b[0;32m/usr/local/lib/python3.10/dist-packages/pycaret/classification/oop.py\u001b[0m in \u001b[0;36mcompare_models\u001b[0;34m(self, include, exclude, fold, round, cross_validation, sort, n_select, budget_time, turbo, errors, fit_kwargs, groups, experiment_custom_tags, probability_threshold, engine, verbose, parallel)\u001b[0m\n\u001b[1;32m   1178\u001b[0m \u001b[0;34m\u001b[0m\u001b[0m\n\u001b[1;32m   1179\u001b[0m         \u001b[0;32mtry\u001b[0m\u001b[0;34m:\u001b[0m\u001b[0;34m\u001b[0m\u001b[0;34m\u001b[0m\u001b[0m\n\u001b[0;32m-> 1180\u001b[0;31m             return_values = super().compare_models(\n\u001b[0m\u001b[1;32m   1181\u001b[0m                 \u001b[0minclude\u001b[0m\u001b[0;34m=\u001b[0m\u001b[0minclude\u001b[0m\u001b[0;34m,\u001b[0m\u001b[0;34m\u001b[0m\u001b[0;34m\u001b[0m\u001b[0m\n\u001b[1;32m   1182\u001b[0m                 \u001b[0mexclude\u001b[0m\u001b[0;34m=\u001b[0m\u001b[0mexclude\u001b[0m\u001b[0;34m,\u001b[0m\u001b[0;34m\u001b[0m\u001b[0;34m\u001b[0m\u001b[0m\n",
            "\u001b[0;32m/usr/local/lib/python3.10/dist-packages/pycaret/internal/pycaret_experiment/supervised_experiment.py\u001b[0m in \u001b[0;36mcompare_models\u001b[0;34m(self, include, exclude, fold, round, cross_validation, sort, n_select, budget_time, turbo, errors, fit_kwargs, groups, experiment_custom_tags, probability_threshold, verbose, parallel, caller_params)\u001b[0m\n\u001b[1;32m    792\u001b[0m \u001b[0;34m\u001b[0m\u001b[0m\n\u001b[1;32m    793\u001b[0m             \u001b[0;32mtry\u001b[0m\u001b[0;34m:\u001b[0m\u001b[0;34m\u001b[0m\u001b[0;34m\u001b[0m\u001b[0m\n\u001b[0;32m--> 794\u001b[0;31m                 \u001b[0mmodel\u001b[0m\u001b[0;34m,\u001b[0m \u001b[0mmodel_fit_time\u001b[0m \u001b[0;34m=\u001b[0m \u001b[0mself\u001b[0m\u001b[0;34m.\u001b[0m\u001b[0m_create_model\u001b[0m\u001b[0;34m(\u001b[0m\u001b[0;34m**\u001b[0m\u001b[0mcreate_model_args\u001b[0m\u001b[0;34m)\u001b[0m\u001b[0;34m\u001b[0m\u001b[0;34m\u001b[0m\u001b[0m\n\u001b[0m\u001b[1;32m    795\u001b[0m                 \u001b[0mmodel_results\u001b[0m \u001b[0;34m=\u001b[0m \u001b[0mself\u001b[0m\u001b[0;34m.\u001b[0m\u001b[0mpull\u001b[0m\u001b[0;34m(\u001b[0m\u001b[0mpop\u001b[0m\u001b[0;34m=\u001b[0m\u001b[0;32mTrue\u001b[0m\u001b[0;34m)\u001b[0m\u001b[0;34m\u001b[0m\u001b[0;34m\u001b[0m\u001b[0m\n\u001b[1;32m    796\u001b[0m                 assert (\n",
            "\u001b[0;32m/usr/local/lib/python3.10/dist-packages/pycaret/internal/pycaret_experiment/supervised_experiment.py\u001b[0m in \u001b[0;36m_create_model\u001b[0;34m(self, estimator, fold, round, cross_validation, predict, fit_kwargs, groups, refit, probability_threshold, experiment_custom_tags, verbose, system, add_to_model_list, X_train_data, y_train_data, metrics, display, model_only, return_train_score, error_score, **kwargs)\u001b[0m\n\u001b[1;32m   1531\u001b[0m             \u001b[0;32mreturn\u001b[0m \u001b[0mmodel\u001b[0m\u001b[0;34m\u001b[0m\u001b[0;34m\u001b[0m\u001b[0m\n\u001b[1;32m   1532\u001b[0m \u001b[0;34m\u001b[0m\u001b[0m\n\u001b[0;32m-> 1533\u001b[0;31m         model, model_fit_time, model_results, _ = self._create_model_with_cv(\n\u001b[0m\u001b[1;32m   1534\u001b[0m             \u001b[0mmodel\u001b[0m\u001b[0;34m=\u001b[0m\u001b[0mmodel\u001b[0m\u001b[0;34m,\u001b[0m\u001b[0;34m\u001b[0m\u001b[0;34m\u001b[0m\u001b[0m\n\u001b[1;32m   1535\u001b[0m             \u001b[0mdata_X\u001b[0m\u001b[0;34m=\u001b[0m\u001b[0mdata_X\u001b[0m\u001b[0;34m,\u001b[0m\u001b[0;34m\u001b[0m\u001b[0;34m\u001b[0m\u001b[0m\n",
            "\u001b[0;32m/usr/local/lib/python3.10/dist-packages/pycaret/internal/pycaret_experiment/supervised_experiment.py\u001b[0m in \u001b[0;36m_create_model_with_cv\u001b[0;34m(self, model, data_X, data_y, fit_kwargs, round, cv, groups, metrics, refit, system, display, error_score, return_train_score)\u001b[0m\n\u001b[1;32m   1124\u001b[0m                 \u001b[0mmodel_fit_start\u001b[0m \u001b[0;34m=\u001b[0m \u001b[0mtime\u001b[0m\u001b[0;34m.\u001b[0m\u001b[0mtime\u001b[0m\u001b[0;34m(\u001b[0m\u001b[0;34m)\u001b[0m\u001b[0;34m\u001b[0m\u001b[0;34m\u001b[0m\u001b[0m\n\u001b[1;32m   1125\u001b[0m                 \u001b[0;32mwith\u001b[0m \u001b[0mredirect_output\u001b[0m\u001b[0;34m(\u001b[0m\u001b[0mself\u001b[0m\u001b[0;34m.\u001b[0m\u001b[0mlogger\u001b[0m\u001b[0;34m)\u001b[0m\u001b[0;34m:\u001b[0m\u001b[0;34m\u001b[0m\u001b[0;34m\u001b[0m\u001b[0m\n\u001b[0;32m-> 1126\u001b[0;31m                     scores = cross_validate(\n\u001b[0m\u001b[1;32m   1127\u001b[0m                         \u001b[0mpipeline_with_model\u001b[0m\u001b[0;34m,\u001b[0m\u001b[0;34m\u001b[0m\u001b[0;34m\u001b[0m\u001b[0m\n\u001b[1;32m   1128\u001b[0m                         \u001b[0mdata_X\u001b[0m\u001b[0;34m,\u001b[0m\u001b[0;34m\u001b[0m\u001b[0;34m\u001b[0m\u001b[0m\n",
            "\u001b[0;32m/usr/local/lib/python3.10/dist-packages/sklearn/model_selection/_validation.py\u001b[0m in \u001b[0;36mcross_validate\u001b[0;34m(estimator, X, y, groups, scoring, cv, n_jobs, verbose, fit_params, pre_dispatch, return_train_score, return_estimator, error_score)\u001b[0m\n\u001b[1;32m    264\u001b[0m     \u001b[0;31m# independent, and that it is pickle-able.\u001b[0m\u001b[0;34m\u001b[0m\u001b[0;34m\u001b[0m\u001b[0m\n\u001b[1;32m    265\u001b[0m     \u001b[0mparallel\u001b[0m \u001b[0;34m=\u001b[0m \u001b[0mParallel\u001b[0m\u001b[0;34m(\u001b[0m\u001b[0mn_jobs\u001b[0m\u001b[0;34m=\u001b[0m\u001b[0mn_jobs\u001b[0m\u001b[0;34m,\u001b[0m \u001b[0mverbose\u001b[0m\u001b[0;34m=\u001b[0m\u001b[0mverbose\u001b[0m\u001b[0;34m,\u001b[0m \u001b[0mpre_dispatch\u001b[0m\u001b[0;34m=\u001b[0m\u001b[0mpre_dispatch\u001b[0m\u001b[0;34m)\u001b[0m\u001b[0;34m\u001b[0m\u001b[0;34m\u001b[0m\u001b[0m\n\u001b[0;32m--> 266\u001b[0;31m     results = parallel(\n\u001b[0m\u001b[1;32m    267\u001b[0m         delayed(_fit_and_score)(\n\u001b[1;32m    268\u001b[0m             \u001b[0mclone\u001b[0m\u001b[0;34m(\u001b[0m\u001b[0mestimator\u001b[0m\u001b[0;34m)\u001b[0m\u001b[0;34m,\u001b[0m\u001b[0;34m\u001b[0m\u001b[0;34m\u001b[0m\u001b[0m\n",
            "\u001b[0;32m/usr/local/lib/python3.10/dist-packages/sklearn/utils/parallel.py\u001b[0m in \u001b[0;36m__call__\u001b[0;34m(self, iterable)\u001b[0m\n\u001b[1;32m     61\u001b[0m             \u001b[0;32mfor\u001b[0m \u001b[0mdelayed_func\u001b[0m\u001b[0;34m,\u001b[0m \u001b[0margs\u001b[0m\u001b[0;34m,\u001b[0m \u001b[0mkwargs\u001b[0m \u001b[0;32min\u001b[0m \u001b[0miterable\u001b[0m\u001b[0;34m\u001b[0m\u001b[0;34m\u001b[0m\u001b[0m\n\u001b[1;32m     62\u001b[0m         )\n\u001b[0;32m---> 63\u001b[0;31m         \u001b[0;32mreturn\u001b[0m \u001b[0msuper\u001b[0m\u001b[0;34m(\u001b[0m\u001b[0;34m)\u001b[0m\u001b[0;34m.\u001b[0m\u001b[0m__call__\u001b[0m\u001b[0;34m(\u001b[0m\u001b[0miterable_with_config\u001b[0m\u001b[0;34m)\u001b[0m\u001b[0;34m\u001b[0m\u001b[0;34m\u001b[0m\u001b[0m\n\u001b[0m\u001b[1;32m     64\u001b[0m \u001b[0;34m\u001b[0m\u001b[0m\n\u001b[1;32m     65\u001b[0m \u001b[0;34m\u001b[0m\u001b[0m\n",
            "\u001b[0;32m/usr/local/lib/python3.10/dist-packages/joblib/parallel.py\u001b[0m in \u001b[0;36m__call__\u001b[0;34m(self, iterable)\u001b[0m\n\u001b[1;32m   1950\u001b[0m         \u001b[0mnext\u001b[0m\u001b[0;34m(\u001b[0m\u001b[0moutput\u001b[0m\u001b[0;34m)\u001b[0m\u001b[0;34m\u001b[0m\u001b[0;34m\u001b[0m\u001b[0m\n\u001b[1;32m   1951\u001b[0m \u001b[0;34m\u001b[0m\u001b[0m\n\u001b[0;32m-> 1952\u001b[0;31m         \u001b[0;32mreturn\u001b[0m \u001b[0moutput\u001b[0m \u001b[0;32mif\u001b[0m \u001b[0mself\u001b[0m\u001b[0;34m.\u001b[0m\u001b[0mreturn_generator\u001b[0m \u001b[0;32melse\u001b[0m \u001b[0mlist\u001b[0m\u001b[0;34m(\u001b[0m\u001b[0moutput\u001b[0m\u001b[0;34m)\u001b[0m\u001b[0;34m\u001b[0m\u001b[0;34m\u001b[0m\u001b[0m\n\u001b[0m\u001b[1;32m   1953\u001b[0m \u001b[0;34m\u001b[0m\u001b[0m\n\u001b[1;32m   1954\u001b[0m     \u001b[0;32mdef\u001b[0m \u001b[0m__repr__\u001b[0m\u001b[0;34m(\u001b[0m\u001b[0mself\u001b[0m\u001b[0;34m)\u001b[0m\u001b[0;34m:\u001b[0m\u001b[0;34m\u001b[0m\u001b[0;34m\u001b[0m\u001b[0m\n",
            "\u001b[0;32m/usr/local/lib/python3.10/dist-packages/joblib/parallel.py\u001b[0m in \u001b[0;36m_get_outputs\u001b[0;34m(self, iterator, pre_dispatch)\u001b[0m\n\u001b[1;32m   1593\u001b[0m \u001b[0;34m\u001b[0m\u001b[0m\n\u001b[1;32m   1594\u001b[0m             \u001b[0;32mwith\u001b[0m \u001b[0mself\u001b[0m\u001b[0;34m.\u001b[0m\u001b[0m_backend\u001b[0m\u001b[0;34m.\u001b[0m\u001b[0mretrieval_context\u001b[0m\u001b[0;34m(\u001b[0m\u001b[0;34m)\u001b[0m\u001b[0;34m:\u001b[0m\u001b[0;34m\u001b[0m\u001b[0;34m\u001b[0m\u001b[0m\n\u001b[0;32m-> 1595\u001b[0;31m                 \u001b[0;32myield\u001b[0m \u001b[0;32mfrom\u001b[0m \u001b[0mself\u001b[0m\u001b[0;34m.\u001b[0m\u001b[0m_retrieve\u001b[0m\u001b[0;34m(\u001b[0m\u001b[0;34m)\u001b[0m\u001b[0;34m\u001b[0m\u001b[0;34m\u001b[0m\u001b[0m\n\u001b[0m\u001b[1;32m   1596\u001b[0m \u001b[0;34m\u001b[0m\u001b[0m\n\u001b[1;32m   1597\u001b[0m         \u001b[0;32mexcept\u001b[0m \u001b[0mGeneratorExit\u001b[0m\u001b[0;34m:\u001b[0m\u001b[0;34m\u001b[0m\u001b[0;34m\u001b[0m\u001b[0m\n",
            "\u001b[0;32m/usr/local/lib/python3.10/dist-packages/joblib/parallel.py\u001b[0m in \u001b[0;36m_retrieve\u001b[0;34m(self)\u001b[0m\n\u001b[1;32m   1705\u001b[0m                 (self._jobs[0].get_status(\n\u001b[1;32m   1706\u001b[0m                     timeout=self.timeout) == TASK_PENDING)):\n\u001b[0;32m-> 1707\u001b[0;31m                 \u001b[0mtime\u001b[0m\u001b[0;34m.\u001b[0m\u001b[0msleep\u001b[0m\u001b[0;34m(\u001b[0m\u001b[0;36m0.01\u001b[0m\u001b[0;34m)\u001b[0m\u001b[0;34m\u001b[0m\u001b[0;34m\u001b[0m\u001b[0m\n\u001b[0m\u001b[1;32m   1708\u001b[0m                 \u001b[0;32mcontinue\u001b[0m\u001b[0;34m\u001b[0m\u001b[0;34m\u001b[0m\u001b[0m\n\u001b[1;32m   1709\u001b[0m \u001b[0;34m\u001b[0m\u001b[0m\n",
            "\u001b[0;31mKeyboardInterrupt\u001b[0m: "
          ]
        }
      ]
    },
    {
      "cell_type": "markdown",
      "source": [
        "LightGBM에서 오류가 발생하므로 상위 5개의 결과를 가지고 분석"
      ],
      "metadata": {
        "id": "iP4ozoeqjPbN"
      }
    },
    {
      "cell_type": "code",
      "source": [
        "\n",
        "# 모델 비교 (LightGBM 모델 제외)\n",
        "best_model = compare_models(include=['lda', 'ridge', 'ada', 'gbc', 'xgboost'])\n"
      ],
      "metadata": {
        "colab": {
          "base_uri": "https://localhost:8080/",
          "height": 206,
          "referenced_widgets": [
            "85d208a8c6e9403b98af7e6b88dbfaa5",
            "665d23dd2fcd4ca786864819f707557d",
            "fb6870dbd47745e692ed4b9ae8fdc4f0",
            "cbd9d5f05fca46c8ac0b8f49c1c66e83",
            "4c5d03b013b7411b8ae13c9f94423b79",
            "5218667a09bf4ee0bd7ffbd9ede90cc9",
            "7cc644d4de374268acc76688edb0793d",
            "925d771e2949435aa3e82542047931f1",
            "af10f31ec00741809593437b6e830b3e",
            "3ef2fa60dd6a4cb5b150a12c543abb5b",
            "c900c2052a964fe9917f0135ef5b8cd4"
          ]
        },
        "id": "tbVCl0MljEfV",
        "outputId": "2f714176-15a9-4a00-9744-eeb51b1574e8"
      },
      "execution_count": 19,
      "outputs": [
        {
          "output_type": "display_data",
          "data": {
            "text/plain": [
              "<IPython.core.display.HTML object>"
            ],
            "text/html": []
          },
          "metadata": {}
        },
        {
          "output_type": "display_data",
          "data": {
            "text/plain": [
              "<pandas.io.formats.style.Styler at 0x79330896ee90>"
            ],
            "text/html": [
              "<style type=\"text/css\">\n",
              "#T_b25c5 th {\n",
              "  text-align: left;\n",
              "}\n",
              "#T_b25c5_row0_col0, #T_b25c5_row0_col2, #T_b25c5_row0_col5, #T_b25c5_row0_col6, #T_b25c5_row0_col7, #T_b25c5_row1_col0, #T_b25c5_row1_col1, #T_b25c5_row1_col3, #T_b25c5_row1_col4, #T_b25c5_row2_col0, #T_b25c5_row2_col1, #T_b25c5_row2_col2, #T_b25c5_row2_col3, #T_b25c5_row2_col4, #T_b25c5_row2_col5, #T_b25c5_row2_col6, #T_b25c5_row2_col7, #T_b25c5_row3_col0, #T_b25c5_row3_col1, #T_b25c5_row3_col2, #T_b25c5_row3_col3, #T_b25c5_row3_col4, #T_b25c5_row3_col5, #T_b25c5_row3_col6, #T_b25c5_row3_col7, #T_b25c5_row4_col0, #T_b25c5_row4_col1, #T_b25c5_row4_col2, #T_b25c5_row4_col3, #T_b25c5_row4_col4, #T_b25c5_row4_col5, #T_b25c5_row4_col6, #T_b25c5_row4_col7 {\n",
              "  text-align: left;\n",
              "}\n",
              "#T_b25c5_row0_col1, #T_b25c5_row0_col3, #T_b25c5_row0_col4, #T_b25c5_row1_col2, #T_b25c5_row1_col5, #T_b25c5_row1_col6, #T_b25c5_row1_col7 {\n",
              "  text-align: left;\n",
              "  background-color: yellow;\n",
              "}\n",
              "#T_b25c5_row0_col8, #T_b25c5_row1_col8, #T_b25c5_row2_col8, #T_b25c5_row4_col8 {\n",
              "  text-align: left;\n",
              "  background-color: lightgrey;\n",
              "}\n",
              "#T_b25c5_row3_col8 {\n",
              "  text-align: left;\n",
              "  background-color: yellow;\n",
              "  background-color: lightgrey;\n",
              "}\n",
              "</style>\n",
              "<table id=\"T_b25c5\" class=\"dataframe\">\n",
              "  <thead>\n",
              "    <tr>\n",
              "      <th class=\"blank level0\" >&nbsp;</th>\n",
              "      <th id=\"T_b25c5_level0_col0\" class=\"col_heading level0 col0\" >Model</th>\n",
              "      <th id=\"T_b25c5_level0_col1\" class=\"col_heading level0 col1\" >Accuracy</th>\n",
              "      <th id=\"T_b25c5_level0_col2\" class=\"col_heading level0 col2\" >AUC</th>\n",
              "      <th id=\"T_b25c5_level0_col3\" class=\"col_heading level0 col3\" >Recall</th>\n",
              "      <th id=\"T_b25c5_level0_col4\" class=\"col_heading level0 col4\" >Prec.</th>\n",
              "      <th id=\"T_b25c5_level0_col5\" class=\"col_heading level0 col5\" >F1</th>\n",
              "      <th id=\"T_b25c5_level0_col6\" class=\"col_heading level0 col6\" >Kappa</th>\n",
              "      <th id=\"T_b25c5_level0_col7\" class=\"col_heading level0 col7\" >MCC</th>\n",
              "      <th id=\"T_b25c5_level0_col8\" class=\"col_heading level0 col8\" >TT (Sec)</th>\n",
              "    </tr>\n",
              "  </thead>\n",
              "  <tbody>\n",
              "    <tr>\n",
              "      <th id=\"T_b25c5_level0_row0\" class=\"row_heading level0 row0\" >gbc</th>\n",
              "      <td id=\"T_b25c5_row0_col0\" class=\"data row0 col0\" >Gradient Boosting Classifier</td>\n",
              "      <td id=\"T_b25c5_row0_col1\" class=\"data row0 col1\" >0.8649</td>\n",
              "      <td id=\"T_b25c5_row0_col2\" class=\"data row0 col2\" >0.7609</td>\n",
              "      <td id=\"T_b25c5_row0_col3\" class=\"data row0 col3\" >0.8649</td>\n",
              "      <td id=\"T_b25c5_row0_col4\" class=\"data row0 col4\" >0.8513</td>\n",
              "      <td id=\"T_b25c5_row0_col5\" class=\"data row0 col5\" >0.8366</td>\n",
              "      <td id=\"T_b25c5_row0_col6\" class=\"data row0 col6\" >0.3243</td>\n",
              "      <td id=\"T_b25c5_row0_col7\" class=\"data row0 col7\" >0.3802</td>\n",
              "      <td id=\"T_b25c5_row0_col8\" class=\"data row0 col8\" >0.1520</td>\n",
              "    </tr>\n",
              "    <tr>\n",
              "      <th id=\"T_b25c5_level0_row1\" class=\"row_heading level0 row1\" >lda</th>\n",
              "      <td id=\"T_b25c5_row1_col0\" class=\"data row1 col0\" >Linear Discriminant Analysis</td>\n",
              "      <td id=\"T_b25c5_row1_col1\" class=\"data row1 col1\" >0.8640</td>\n",
              "      <td id=\"T_b25c5_row1_col2\" class=\"data row1 col2\" >0.8140</td>\n",
              "      <td id=\"T_b25c5_row1_col3\" class=\"data row1 col3\" >0.8640</td>\n",
              "      <td id=\"T_b25c5_row1_col4\" class=\"data row1 col4\" >0.8497</td>\n",
              "      <td id=\"T_b25c5_row1_col5\" class=\"data row1 col5\" >0.8481</td>\n",
              "      <td id=\"T_b25c5_row1_col6\" class=\"data row1 col6\" >0.3916</td>\n",
              "      <td id=\"T_b25c5_row1_col7\" class=\"data row1 col7\" >0.4158</td>\n",
              "      <td id=\"T_b25c5_row1_col8\" class=\"data row1 col8\" >0.5010</td>\n",
              "    </tr>\n",
              "    <tr>\n",
              "      <th id=\"T_b25c5_level0_row2\" class=\"row_heading level0 row2\" >ada</th>\n",
              "      <td id=\"T_b25c5_row2_col0\" class=\"data row2 col0\" >Ada Boost Classifier</td>\n",
              "      <td id=\"T_b25c5_row2_col1\" class=\"data row2 col1\" >0.8640</td>\n",
              "      <td id=\"T_b25c5_row2_col2\" class=\"data row2 col2\" >0.7870</td>\n",
              "      <td id=\"T_b25c5_row2_col3\" class=\"data row2 col3\" >0.8640</td>\n",
              "      <td id=\"T_b25c5_row2_col4\" class=\"data row2 col4\" >0.8466</td>\n",
              "      <td id=\"T_b25c5_row2_col5\" class=\"data row2 col5\" >0.8452</td>\n",
              "      <td id=\"T_b25c5_row2_col6\" class=\"data row2 col6\" >0.3755</td>\n",
              "      <td id=\"T_b25c5_row2_col7\" class=\"data row2 col7\" >0.4021</td>\n",
              "      <td id=\"T_b25c5_row2_col8\" class=\"data row2 col8\" >0.0930</td>\n",
              "    </tr>\n",
              "    <tr>\n",
              "      <th id=\"T_b25c5_level0_row3\" class=\"row_heading level0 row3\" >ridge</th>\n",
              "      <td id=\"T_b25c5_row3_col0\" class=\"data row3 col0\" >Ridge Classifier</td>\n",
              "      <td id=\"T_b25c5_row3_col1\" class=\"data row3 col1\" >0.8610</td>\n",
              "      <td id=\"T_b25c5_row3_col2\" class=\"data row3 col2\" >0.0000</td>\n",
              "      <td id=\"T_b25c5_row3_col3\" class=\"data row3 col3\" >0.8610</td>\n",
              "      <td id=\"T_b25c5_row3_col4\" class=\"data row3 col4\" >0.8478</td>\n",
              "      <td id=\"T_b25c5_row3_col5\" class=\"data row3 col5\" >0.8206</td>\n",
              "      <td id=\"T_b25c5_row3_col6\" class=\"data row3 col6\" >0.2469</td>\n",
              "      <td id=\"T_b25c5_row3_col7\" class=\"data row3 col7\" >0.3261</td>\n",
              "      <td id=\"T_b25c5_row3_col8\" class=\"data row3 col8\" >0.0520</td>\n",
              "    </tr>\n",
              "    <tr>\n",
              "      <th id=\"T_b25c5_level0_row4\" class=\"row_heading level0 row4\" >xgboost</th>\n",
              "      <td id=\"T_b25c5_row4_col0\" class=\"data row4 col0\" >Extreme Gradient Boosting</td>\n",
              "      <td id=\"T_b25c5_row4_col1\" class=\"data row4 col1\" >0.8601</td>\n",
              "      <td id=\"T_b25c5_row4_col2\" class=\"data row4 col2\" >0.7733</td>\n",
              "      <td id=\"T_b25c5_row4_col3\" class=\"data row4 col3\" >0.8601</td>\n",
              "      <td id=\"T_b25c5_row4_col4\" class=\"data row4 col4\" >0.8382</td>\n",
              "      <td id=\"T_b25c5_row4_col5\" class=\"data row4 col5\" >0.8355</td>\n",
              "      <td id=\"T_b25c5_row4_col6\" class=\"data row4 col6\" >0.3259</td>\n",
              "      <td id=\"T_b25c5_row4_col7\" class=\"data row4 col7\" >0.3607</td>\n",
              "      <td id=\"T_b25c5_row4_col8\" class=\"data row4 col8\" >0.0900</td>\n",
              "    </tr>\n",
              "  </tbody>\n",
              "</table>\n"
            ]
          },
          "metadata": {}
        },
        {
          "output_type": "display_data",
          "data": {
            "text/plain": [
              "Processing:   0%|          | 0/25 [00:00<?, ?it/s]"
            ],
            "application/vnd.jupyter.widget-view+json": {
              "version_major": 2,
              "version_minor": 0,
              "model_id": "85d208a8c6e9403b98af7e6b88dbfaa5"
            }
          },
          "metadata": {
            "application/vnd.jupyter.widget-view+json": {
              "colab": {
                "custom_widget_manager": {
                  "url": "https://ssl.gstatic.com/colaboratory-static/widgets/colab-cdn-widget-manager/b3e629b1971e1542/manager.min.js"
                }
              }
            }
          }
        },
        {
          "output_type": "display_data",
          "data": {
            "text/plain": [
              "<IPython.core.display.HTML object>"
            ],
            "text/html": []
          },
          "metadata": {}
        }
      ]
    },
    {
      "cell_type": "code",
      "source": [
        "#변수 중요도 시각화\n",
        "plot_model(best_model, plot='feature')"
      ],
      "metadata": {
        "colab": {
          "base_uri": "https://localhost:8080/",
          "height": 485
        },
        "id": "zasl9AsZjjaW",
        "outputId": "84560b61-81d8-4206-b9c4-1b3542901105"
      },
      "execution_count": 20,
      "outputs": [
        {
          "output_type": "display_data",
          "data": {
            "text/plain": [
              "<IPython.core.display.HTML object>"
            ],
            "text/html": []
          },
          "metadata": {}
        },
        {
          "output_type": "display_data",
          "data": {
            "text/plain": [
              "<Figure size 800x500 with 1 Axes>"
            ],
            "image/png": "[encoded data removed]"
          },
          "metadata": {}
        }
      ]
    },
    {
      "cell_type": "markdown",
      "source": [
        "AutoML로 최적의 모델을 채택하고 종속변수, 즉 '퇴직 여부'에 대한 피처 중요도를 시각화 하였다."
      ],
      "metadata": {
        "id": "iPTOEvV_nuFN"
      }
    },
    {
      "cell_type": "code",
      "source": [],
      "metadata": {
        "id": "1tD1F-HkoSM7"
      },
      "execution_count": null,
      "outputs": []
    }
  ],
  "metadata": {
    "kernelspec": {
      "display_name": "Python 3",
      "name": "python3"
    },
    "language_info": {
      "codemirror_mode": {
        "name": "ipython",
        "version": 3
      },
      "file_extension": ".py",
      "mimetype": "text/x-python",
      "name": "python",
      "nbconvert_exporter": "python",
      "pygments_lexer": "ipython3",
      "version": "3.11.5"
    },
    "orig_nbformat": 4,
    "colab": {
      "provenance": [],
      "machine_shape": "hm",
      "gpuType": "T4",
      "include_colab_link": true
    },
    "accelerator": "GPU",
    "widgets": {
      "application/vnd.jupyter.widget-state+json": {
        "9f1b86113ec34f51b87eb1148d8e66b4": {
          "model_module": "@jupyter-widgets/controls",
          "model_name": "HBoxModel",
          "model_module_version": "1.5.0",
          "state": {
            "_dom_classes": [],
            "_model_module": "@jupyter-widgets/controls",
            "_model_module_version": "1.5.0",
            "_model_name": "HBoxModel",
            "_view_count": null,
            "_view_module": "@jupyter-widgets/controls",
            "_view_module_version": "1.5.0",
            "_view_name": "HBoxView",
            "box_style": "",
            "children": [
              "IPY_MODEL_a65dba8070eb4370aac43b699e4e7cff",
              "IPY_MODEL_20609e82a2c74cd69a887938a8f13669",
              "IPY_MODEL_8349f1d9756f411c88ab6890213b536f"
            ],
            "layout": "IPY_MODEL_be418faaa4f04b19b41e02c68576c4c3"
          }
        },
        "a65dba8070eb4370aac43b699e4e7cff": {
          "model_module": "@jupyter-widgets/controls",
          "model_name": "HTMLModel",
          "model_module_version": "1.5.0",
          "state": {
            "_dom_classes": [],
            "_model_module": "@jupyter-widgets/controls",
            "_model_module_version": "1.5.0",
            "_model_name": "HTMLModel",
            "_view_count": null,
            "_view_module": "@jupyter-widgets/controls",
            "_view_module_version": "1.5.0",
            "_view_name": "HTMLView",
            "description": "",
            "description_tooltip": null,
            "layout": "IPY_MODEL_1bea393383a046a1b44f1a47cc1e1026",
            "placeholder": "​",
            "style": "IPY_MODEL_01d8accd9f404024b4f3007b6b0e1c01",
            "value": "Processing:  85%"
          }
        },
        "20609e82a2c74cd69a887938a8f13669": {
          "model_module": "@jupyter-widgets/controls",
          "model_name": "FloatProgressModel",
          "model_module_version": "1.5.0",
          "state": {
            "_dom_classes": [],
            "_model_module": "@jupyter-widgets/controls",
            "_model_module_version": "1.5.0",
            "_model_name": "FloatProgressModel",
            "_view_count": null,
            "_view_module": "@jupyter-widgets/controls",
            "_view_module_version": "1.5.0",
            "_view_name": "ProgressView",
            "bar_style": "",
            "description": "",
            "description_tooltip": null,
            "layout": "IPY_MODEL_fd89a19d1465494a88e2e0865330f471",
            "max": 65,
            "min": 0,
            "orientation": "horizontal",
            "style": "IPY_MODEL_a5a2169d30964744b2570b8ce5a28844",
            "value": 55
          }
        },
        "8349f1d9756f411c88ab6890213b536f": {
          "model_module": "@jupyter-widgets/controls",
          "model_name": "HTMLModel",
          "model_module_version": "1.5.0",
          "state": {
            "_dom_classes": [],
            "_model_module": "@jupyter-widgets/controls",
            "_model_module_version": "1.5.0",
            "_model_name": "HTMLModel",
            "_view_count": null,
            "_view_module": "@jupyter-widgets/controls",
            "_view_module_version": "1.5.0",
            "_view_name": "HTMLView",
            "description": "",
            "description_tooltip": null,
            "layout": "IPY_MODEL_f46fddac2cef470ba65610b689e76289",
            "placeholder": "​",
            "style": "IPY_MODEL_15b735585f334be1929225eb11e37026",
            "value": " 55/65 [00:18&lt;00:02,  3.80it/s]"
          }
        },
        "be418faaa4f04b19b41e02c68576c4c3": {
          "model_module": "@jupyter-widgets/base",
          "model_name": "LayoutModel",
          "model_module_version": "1.2.0",
          "state": {
            "_model_module": "@jupyter-widgets/base",
            "_model_module_version": "1.2.0",
            "_model_name": "LayoutModel",
            "_view_count": null,
            "_view_module": "@jupyter-widgets/base",
            "_view_module_version": "1.2.0",
            "_view_name": "LayoutView",
            "align_content": null,
            "align_items": null,
            "align_self": null,
            "border": null,
            "bottom": null,
            "display": null,
            "flex": null,
            "flex_flow": null,
            "grid_area": null,
            "grid_auto_columns": null,
            "grid_auto_flow": null,
            "grid_auto_rows": null,
            "grid_column": null,
            "grid_gap": null,
            "grid_row": null,
            "grid_template_areas": null,
            "grid_template_columns": null,
            "grid_template_rows": null,
            "height": null,
            "justify_content": null,
            "justify_items": null,
            "left": null,
            "margin": null,
            "max_height": null,
            "max_width": null,
            "min_height": null,
            "min_width": null,
            "object_fit": null,
            "object_position": null,
            "order": null,
            "overflow": null,
            "overflow_x": null,
            "overflow_y": null,
            "padding": null,
            "right": null,
            "top": null,
            "visibility": null,
            "width": null
          }
        },
        "1bea393383a046a1b44f1a47cc1e1026": {
          "model_module": "@jupyter-widgets/base",
          "model_name": "LayoutModel",
          "model_module_version": "1.2.0",
          "state": {
            "_model_module": "@jupyter-widgets/base",
            "_model_module_version": "1.2.0",
            "_model_name": "LayoutModel",
            "_view_count": null,
            "_view_module": "@jupyter-widgets/base",
            "_view_module_version": "1.2.0",
            "_view_name": "LayoutView",
            "align_content": null,
            "align_items": null,
            "align_self": null,
            "border": null,
            "bottom": null,
            "display": null,
            "flex": null,
            "flex_flow": null,
            "grid_area": null,
            "grid_auto_columns": null,
            "grid_auto_flow": null,
            "grid_auto_rows": null,
            "grid_column": null,
            "grid_gap": null,
            "grid_row": null,
            "grid_template_areas": null,
            "grid_template_columns": null,
            "grid_template_rows": null,
            "height": null,
            "justify_content": null,
            "justify_items": null,
            "left": null,
            "margin": null,
            "max_height": null,
            "max_width": null,
            "min_height": null,
            "min_width": null,
            "object_fit": null,
            "object_position": null,
            "order": null,
            "overflow": null,
            "overflow_x": null,
            "overflow_y": null,
            "padding": null,
            "right": null,
            "top": null,
            "visibility": null,
            "width": null
          }
        },
        "01d8accd9f404024b4f3007b6b0e1c01": {
          "model_module": "@jupyter-widgets/controls",
          "model_name": "DescriptionStyleModel",
          "model_module_version": "1.5.0",
          "state": {
            "_model_module": "@jupyter-widgets/controls",
            "_model_module_version": "1.5.0",
            "_model_name": "DescriptionStyleModel",
            "_view_count": null,
            "_view_module": "@jupyter-widgets/base",
            "_view_module_version": "1.2.0",
            "_view_name": "StyleView",
            "description_width": ""
          }
        },
        "fd89a19d1465494a88e2e0865330f471": {
          "model_module": "@jupyter-widgets/base",
          "model_name": "LayoutModel",
          "model_module_version": "1.2.0",
          "state": {
            "_model_module": "@jupyter-widgets/base",
            "_model_module_version": "1.2.0",
            "_model_name": "LayoutModel",
            "_view_count": null,
            "_view_module": "@jupyter-widgets/base",
            "_view_module_version": "1.2.0",
            "_view_name": "LayoutView",
            "align_content": null,
            "align_items": null,
            "align_self": null,
            "border": null,
            "bottom": null,
            "display": null,
            "flex": null,
            "flex_flow": null,
            "grid_area": null,
            "grid_auto_columns": null,
            "grid_auto_flow": null,
            "grid_auto_rows": null,
            "grid_column": null,
            "grid_gap": null,
            "grid_row": null,
            "grid_template_areas": null,
            "grid_template_columns": null,
            "grid_template_rows": null,
            "height": null,
            "justify_content": null,
            "justify_items": null,
            "left": null,
            "margin": null,
            "max_height": null,
            "max_width": null,
            "min_height": null,
            "min_width": null,
            "object_fit": null,
            "object_position": null,
            "order": null,
            "overflow": null,
            "overflow_x": null,
            "overflow_y": null,
            "padding": null,
            "right": null,
            "top": null,
            "visibility": null,
            "width": null
          }
        },
        "a5a2169d30964744b2570b8ce5a28844": {
          "model_module": "@jupyter-widgets/controls",
          "model_name": "ProgressStyleModel",
          "model_module_version": "1.5.0",
          "state": {
            "_model_module": "@jupyter-widgets/controls",
            "_model_module_version": "1.5.0",
            "_model_name": "ProgressStyleModel",
            "_view_count": null,
            "_view_module": "@jupyter-widgets/base",
            "_view_module_version": "1.2.0",
            "_view_name": "StyleView",
            "bar_color": null,
            "description_width": ""
          }
        },
        "f46fddac2cef470ba65610b689e76289": {
          "model_module": "@jupyter-widgets/base",
          "model_name": "LayoutModel",
          "model_module_version": "1.2.0",
          "state": {
            "_model_module": "@jupyter-widgets/base",
            "_model_module_version": "1.2.0",
            "_model_name": "LayoutModel",
            "_view_count": null,
            "_view_module": "@jupyter-widgets/base",
            "_view_module_version": "1.2.0",
            "_view_name": "LayoutView",
            "align_content": null,
            "align_items": null,
            "align_self": null,
            "border": null,
            "bottom": null,
            "display": null,
            "flex": null,
            "flex_flow": null,
            "grid_area": null,
            "grid_auto_columns": null,
            "grid_auto_flow": null,
            "grid_auto_rows": null,
            "grid_column": null,
            "grid_gap": null,
            "grid_row": null,
            "grid_template_areas": null,
            "grid_template_columns": null,
            "grid_template_rows": null,
            "height": null,
            "justify_content": null,
            "justify_items": null,
            "left": null,
            "margin": null,
            "max_height": null,
            "max_width": null,
            "min_height": null,
            "min_width": null,
            "object_fit": null,
            "object_position": null,
            "order": null,
            "overflow": null,
            "overflow_x": null,
            "overflow_y": null,
            "padding": null,
            "right": null,
            "top": null,
            "visibility": null,
            "width": null
          }
        },
        "15b735585f334be1929225eb11e37026": {
          "model_module": "@jupyter-widgets/controls",
          "model_name": "DescriptionStyleModel",
          "model_module_version": "1.5.0",
          "state": {
            "_model_module": "@jupyter-widgets/controls",
            "_model_module_version": "1.5.0",
            "_model_name": "DescriptionStyleModel",
            "_view_count": null,
            "_view_module": "@jupyter-widgets/base",
            "_view_module_version": "1.2.0",
            "_view_name": "StyleView",
            "description_width": ""
          }
        },
        "85d208a8c6e9403b98af7e6b88dbfaa5": {
          "model_module": "@jupyter-widgets/controls",
          "model_name": "HBoxModel",
          "model_module_version": "1.5.0",
          "state": {
            "_dom_classes": [],
            "_model_module": "@jupyter-widgets/controls",
            "_model_module_version": "1.5.0",
            "_model_name": "HBoxModel",
            "_view_count": null,
            "_view_module": "@jupyter-widgets/controls",
            "_view_module_version": "1.5.0",
            "_view_name": "HBoxView",
            "box_style": "",
            "children": [
              "IPY_MODEL_665d23dd2fcd4ca786864819f707557d",
              "IPY_MODEL_fb6870dbd47745e692ed4b9ae8fdc4f0",
              "IPY_MODEL_cbd9d5f05fca46c8ac0b8f49c1c66e83"
            ],
            "layout": "IPY_MODEL_4c5d03b013b7411b8ae13c9f94423b79"
          }
        },
        "665d23dd2fcd4ca786864819f707557d": {
          "model_module": "@jupyter-widgets/controls",
          "model_name": "HTMLModel",
          "model_module_version": "1.5.0",
          "state": {
            "_dom_classes": [],
            "_model_module": "@jupyter-widgets/controls",
            "_model_module_version": "1.5.0",
            "_model_name": "HTMLModel",
            "_view_count": null,
            "_view_module": "@jupyter-widgets/controls",
            "_view_module_version": "1.5.0",
            "_view_name": "HTMLView",
            "description": "",
            "description_tooltip": null,
            "layout": "IPY_MODEL_5218667a09bf4ee0bd7ffbd9ede90cc9",
            "placeholder": "​",
            "style": "IPY_MODEL_7cc644d4de374268acc76688edb0793d",
            "value": "Processing: 100%"
          }
        },
        "fb6870dbd47745e692ed4b9ae8fdc4f0": {
          "model_module": "@jupyter-widgets/controls",
          "model_name": "FloatProgressModel",
          "model_module_version": "1.5.0",
          "state": {
            "_dom_classes": [],
            "_model_module": "@jupyter-widgets/controls",
            "_model_module_version": "1.5.0",
            "_model_name": "FloatProgressModel",
            "_view_count": null,
            "_view_module": "@jupyter-widgets/controls",
            "_view_module_version": "1.5.0",
            "_view_name": "ProgressView",
            "bar_style": "",
            "description": "",
            "description_tooltip": null,
            "layout": "IPY_MODEL_925d771e2949435aa3e82542047931f1",
            "max": 25,
            "min": 0,
            "orientation": "horizontal",
            "style": "IPY_MODEL_af10f31ec00741809593437b6e830b3e",
            "value": 25
          }
        },
        "cbd9d5f05fca46c8ac0b8f49c1c66e83": {
          "model_module": "@jupyter-widgets/controls",
          "model_name": "HTMLModel",
          "model_module_version": "1.5.0",
          "state": {
            "_dom_classes": [],
            "_model_module": "@jupyter-widgets/controls",
            "_model_module_version": "1.5.0",
            "_model_name": "HTMLModel",
            "_view_count": null,
            "_view_module": "@jupyter-widgets/controls",
            "_view_module_version": "1.5.0",
            "_view_name": "HTMLView",
            "description": "",
            "description_tooltip": null,
            "layout": "IPY_MODEL_3ef2fa60dd6a4cb5b150a12c543abb5b",
            "placeholder": "​",
            "style": "IPY_MODEL_c900c2052a964fe9917f0135ef5b8cd4",
            "value": " 25/25 [00:10&lt;00:00,  3.11it/s]"
          }
        },
        "4c5d03b013b7411b8ae13c9f94423b79": {
          "model_module": "@jupyter-widgets/base",
          "model_name": "LayoutModel",
          "model_module_version": "1.2.0",
          "state": {
            "_model_module": "@jupyter-widgets/base",
            "_model_module_version": "1.2.0",
            "_model_name": "LayoutModel",
            "_view_count": null,
            "_view_module": "@jupyter-widgets/base",
            "_view_module_version": "1.2.0",
            "_view_name": "LayoutView",
            "align_content": null,
            "align_items": null,
            "align_self": null,
            "border": null,
            "bottom": null,
            "display": null,
            "flex": null,
            "flex_flow": null,
            "grid_area": null,
            "grid_auto_columns": null,
            "grid_auto_flow": null,
            "grid_auto_rows": null,
            "grid_column": null,
            "grid_gap": null,
            "grid_row": null,
            "grid_template_areas": null,
            "grid_template_columns": null,
            "grid_template_rows": null,
            "height": null,
            "justify_content": null,
            "justify_items": null,
            "left": null,
            "margin": null,
            "max_height": null,
            "max_width": null,
            "min_height": null,
            "min_width": null,
            "object_fit": null,
            "object_position": null,
            "order": null,
            "overflow": null,
            "overflow_x": null,
            "overflow_y": null,
            "padding": null,
            "right": null,
            "top": null,
            "visibility": "hidden",
            "width": null
          }
        },
        "5218667a09bf4ee0bd7ffbd9ede90cc9": {
          "model_module": "@jupyter-widgets/base",
          "model_name": "LayoutModel",
          "model_module_version": "1.2.0",
          "state": {
            "_model_module": "@jupyter-widgets/base",
            "_model_module_version": "1.2.0",
            "_model_name": "LayoutModel",
            "_view_count": null,
            "_view_module": "@jupyter-widgets/base",
            "_view_module_version": "1.2.0",
            "_view_name": "LayoutView",
            "align_content": null,
            "align_items": null,
            "align_self": null,
            "border": null,
            "bottom": null,
            "display": null,
            "flex": null,
            "flex_flow": null,
            "grid_area": null,
            "grid_auto_columns": null,
            "grid_auto_flow": null,
            "grid_auto_rows": null,
            "grid_column": null,
            "grid_gap": null,
            "grid_row": null,
            "grid_template_areas": null,
            "grid_template_columns": null,
            "grid_template_rows": null,
            "height": null,
            "justify_content": null,
            "justify_items": null,
            "left": null,
            "margin": null,
            "max_height": null,
            "max_width": null,
            "min_height": null,
            "min_width": null,
            "object_fit": null,
            "object_position": null,
            "order": null,
            "overflow": null,
            "overflow_x": null,
            "overflow_y": null,
            "padding": null,
            "right": null,
            "top": null,
            "visibility": null,
            "width": null
          }
        },
        "7cc644d4de374268acc76688edb0793d": {
          "model_module": "@jupyter-widgets/controls",
          "model_name": "DescriptionStyleModel",
          "model_module_version": "1.5.0",
          "state": {
            "_model_module": "@jupyter-widgets/controls",
            "_model_module_version": "1.5.0",
            "_model_name": "DescriptionStyleModel",
            "_view_count": null,
            "_view_module": "@jupyter-widgets/base",
            "_view_module_version": "1.2.0",
            "_view_name": "StyleView",
            "description_width": ""
          }
        },
        "925d771e2949435aa3e82542047931f1": {
          "model_module": "@jupyter-widgets/base",
          "model_name": "LayoutModel",
          "model_module_version": "1.2.0",
          "state": {
            "_model_module": "@jupyter-widgets/base",
            "_model_module_version": "1.2.0",
            "_model_name": "LayoutModel",
            "_view_count": null,
            "_view_module": "@jupyter-widgets/base",
            "_view_module_version": "1.2.0",
            "_view_name": "LayoutView",
            "align_content": null,
            "align_items": null,
            "align_self": null,
            "border": null,
            "bottom": null,
            "display": null,
            "flex": null,
            "flex_flow": null,
            "grid_area": null,
            "grid_auto_columns": null,
            "grid_auto_flow": null,
            "grid_auto_rows": null,
            "grid_column": null,
            "grid_gap": null,
            "grid_row": null,
            "grid_template_areas": null,
            "grid_template_columns": null,
            "grid_template_rows": null,
            "height": null,
            "justify_content": null,
            "justify_items": null,
            "left": null,
            "margin": null,
            "max_height": null,
            "max_width": null,
            "min_height": null,
            "min_width": null,
            "object_fit": null,
            "object_position": null,
            "order": null,
            "overflow": null,
            "overflow_x": null,
            "overflow_y": null,
            "padding": null,
            "right": null,
            "top": null,
            "visibility": null,
            "width": null
          }
        },
        "af10f31ec00741809593437b6e830b3e": {
          "model_module": "@jupyter-widgets/controls",
          "model_name": "ProgressStyleModel",
          "model_module_version": "1.5.0",
          "state": {
            "_model_module": "@jupyter-widgets/controls",
            "_model_module_version": "1.5.0",
            "_model_name": "ProgressStyleModel",
            "_view_count": null,
            "_view_module": "@jupyter-widgets/base",
            "_view_module_version": "1.2.0",
            "_view_name": "StyleView",
            "bar_color": null,
            "description_width": ""
          }
        },
        "3ef2fa60dd6a4cb5b150a12c543abb5b": {
          "model_module": "@jupyter-widgets/base",
          "model_name": "LayoutModel",
          "model_module_version": "1.2.0",
          "state": {
            "_model_module": "@jupyter-widgets/base",
            "_model_module_version": "1.2.0",
            "_model_name": "LayoutModel",
            "_view_count": null,
            "_view_module": "@jupyter-widgets/base",
            "_view_module_version": "1.2.0",
            "_view_name": "LayoutView",
            "align_content": null,
            "align_items": null,
            "align_self": null,
            "border": null,
            "bottom": null,
            "display": null,
            "flex": null,
            "flex_flow": null,
            "grid_area": null,
            "grid_auto_columns": null,
            "grid_auto_flow": null,
            "grid_auto_rows": null,
            "grid_column": null,
            "grid_gap": null,
            "grid_row": null,
            "grid_template_areas": null,
            "grid_template_columns": null,
            "grid_template_rows": null,
            "height": null,
            "justify_content": null,
            "justify_items": null,
            "left": null,
            "margin": null,
            "max_height": null,
            "max_width": null,
            "min_height": null,
            "min_width": null,
            "object_fit": null,
            "object_position": null,
            "order": null,
            "overflow": null,
            "overflow_x": null,
            "overflow_y": null,
            "padding": null,
            "right": null,
            "top": null,
            "visibility": null,
            "width": null
          }
        },
        "c900c2052a964fe9917f0135ef5b8cd4": {
          "model_module": "@jupyter-widgets/controls",
          "model_name": "DescriptionStyleModel",
          "model_module_version": "1.5.0",
          "state": {
            "_model_module": "@jupyter-widgets/controls",
            "_model_module_version": "1.5.0",
            "_model_name": "DescriptionStyleModel",
            "_view_count": null,
            "_view_module": "@jupyter-widgets/base",
            "_view_module_version": "1.2.0",
            "_view_name": "StyleView",
            "description_width": ""
          }
        }
      }
    }
  },
  "nbformat": 4,
  "nbformat_minor": 0
}